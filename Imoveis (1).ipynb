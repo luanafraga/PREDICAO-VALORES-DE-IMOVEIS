{
 "cells": [
  {
   "cell_type": "markdown",
   "id": "a5b93c2b",
   "metadata": {
    "ExecuteTime": {
     "end_time": "2022-08-31T20:00:03.822546Z",
     "start_time": "2022-08-31T20:00:03.794033Z"
    }
   },
   "source": [
    "# Predição de valores de Imóveis\n",
    "\n",
    "Autora: Luana Fraga de Andrade Araujo\n",
    "\n",
    "E-mail: luafraga1@hotmail.com\n",
    "\n",
    "LinkedIn: www.linkedin.com/in/luana-fraga-63a794193/\n",
    "\n",
    "Github: https://github.com/luanafraga"
   ]
  },
  {
   "cell_type": "markdown",
   "id": "157cdeef",
   "metadata": {},
   "source": [
    "# Objetivo do projeto\n",
    "\n",
    "O objetivo deste projeto é a **predição de valores dos imóveis** da cidade de São Paulo a partir de dados como metragem do imóvel, quantidade de quartos, banheiros e vagas de garagem."
   ]
  },
  {
   "cell_type": "markdown",
   "id": "a756b449",
   "metadata": {
    "ExecuteTime": {
     "end_time": "2022-08-31T20:09:26.562408Z",
     "start_time": "2022-08-31T20:09:26.555192Z"
    }
   },
   "source": [
    "# Base de dados\n",
    "\n",
    "A base de dados possui informações sobre:\n",
    "\n",
    "   - **Rua**\n",
    "   - **Bairro**\n",
    "   - **Cidade**\n",
    "   - **Metragem**\n",
    "   - **Quartos**\n",
    "   - **Banheiros**\n",
    "   - **Vagas de garagem**\n",
    "   - **Valor do imóvel**\n"
   ]
  },
  {
   "cell_type": "markdown",
   "id": "17967509",
   "metadata": {},
   "source": [
    "# Importação de Pacotes"
   ]
  },
  {
   "cell_type": "code",
   "execution_count": 1,
   "id": "bf1080eb",
   "metadata": {
    "ExecuteTime": {
     "end_time": "2022-09-09T15:03:47.198503Z",
     "start_time": "2022-09-09T15:03:42.304746Z"
    }
   },
   "outputs": [],
   "source": [
    "import pandas as pd\n",
    "import numpy as np\n",
    "\n",
    "# para visualização dos gráficos\n",
    "import seaborn as sns\n",
    "import matplotlib.pyplot as plt"
   ]
  },
  {
   "cell_type": "code",
   "execution_count": 2,
   "id": "1f5028a6",
   "metadata": {
    "ExecuteTime": {
     "end_time": "2022-09-09T15:03:49.588398Z",
     "start_time": "2022-09-09T15:03:47.202815Z"
    }
   },
   "outputs": [],
   "source": [
    "# para criação e validação dos modelos de machine learning\n",
    "from sklearn.linear_model import LinearRegression\n",
    "from sklearn.model_selection import train_test_split\n",
    "from sklearn.metrics import mean_absolute_error, r2_score\n",
    "from sklearn.ensemble import RandomForestRegressor\n",
    "from sklearn.datasets import make_regression\n",
    "from sklearn.model_selection import GridSearchCV\n",
    "import lightgbm as lgb\n",
    "\n",
    "\n",
    "# para garantir a replicabilidade do código\n",
    "seed = 54"
   ]
  },
  {
   "cell_type": "code",
   "execution_count": 3,
   "id": "7c3244f7",
   "metadata": {
    "ExecuteTime": {
     "end_time": "2022-09-09T15:03:49.615521Z",
     "start_time": "2022-09-09T15:03:49.592798Z"
    }
   },
   "outputs": [],
   "source": [
    "sns.set_palette('pastel')\n",
    "sns.set_style('white')"
   ]
  },
  {
   "cell_type": "markdown",
   "id": "d20dcb67",
   "metadata": {},
   "source": [
    "# Leitura dos dados"
   ]
  },
  {
   "cell_type": "code",
   "execution_count": 4,
   "id": "f8144b95",
   "metadata": {
    "ExecuteTime": {
     "end_time": "2022-09-09T15:03:49.643480Z",
     "start_time": "2022-09-09T15:03:49.630675Z"
    }
   },
   "outputs": [],
   "source": [
    "pd.set_option('display.max_columns', 100)\n",
    "pd.set_option('display.max_colwidth', None)"
   ]
  },
  {
   "cell_type": "code",
   "execution_count": 5,
   "id": "ddbb9e45",
   "metadata": {
    "ExecuteTime": {
     "end_time": "2022-09-09T15:03:49.753477Z",
     "start_time": "2022-09-09T15:03:49.654968Z"
    }
   },
   "outputs": [
    {
     "data": {
      "text/html": [
       "<div>\n",
       "<style scoped>\n",
       "    .dataframe tbody tr th:only-of-type {\n",
       "        vertical-align: middle;\n",
       "    }\n",
       "\n",
       "    .dataframe tbody tr th {\n",
       "        vertical-align: top;\n",
       "    }\n",
       "\n",
       "    .dataframe thead th {\n",
       "        text-align: right;\n",
       "    }\n",
       "</style>\n",
       "<table border=\"1\" class=\"dataframe\">\n",
       "  <thead>\n",
       "    <tr style=\"text-align: right;\">\n",
       "      <th></th>\n",
       "      <th>Rua</th>\n",
       "      <th>Bairro</th>\n",
       "      <th>Cidade</th>\n",
       "      <th>Metragem</th>\n",
       "      <th>Quartos</th>\n",
       "      <th>Banheiros</th>\n",
       "      <th>Vagas</th>\n",
       "      <th>Valor</th>\n",
       "    </tr>\n",
       "  </thead>\n",
       "  <tbody>\n",
       "    <tr>\n",
       "      <th>0</th>\n",
       "      <td>Avenida Itacira, 255</td>\n",
       "      <td>Planalto Paulista</td>\n",
       "      <td>São Paulo</td>\n",
       "      <td>1000</td>\n",
       "      <td>4</td>\n",
       "      <td>8</td>\n",
       "      <td>6</td>\n",
       "      <td>R$ 7.000.000</td>\n",
       "    </tr>\n",
       "    <tr>\n",
       "      <th>1</th>\n",
       "      <td>Rua Aurelia Perez Alvarez, 42</td>\n",
       "      <td>Jardim dos Estados</td>\n",
       "      <td>São Paulo</td>\n",
       "      <td>496</td>\n",
       "      <td>4</td>\n",
       "      <td>4</td>\n",
       "      <td>4</td>\n",
       "      <td>R$ 3.700.000</td>\n",
       "    </tr>\n",
       "    <tr>\n",
       "      <th>2</th>\n",
       "      <td>Rua Alba Valdez</td>\n",
       "      <td>Jardim Reimberg</td>\n",
       "      <td>São Paulo</td>\n",
       "      <td>125</td>\n",
       "      <td>4</td>\n",
       "      <td>3</td>\n",
       "      <td>2</td>\n",
       "      <td>R$ 380.000</td>\n",
       "    </tr>\n",
       "    <tr>\n",
       "      <th>3</th>\n",
       "      <td>NaN</td>\n",
       "      <td>Jardim Morumbi</td>\n",
       "      <td>São Paulo</td>\n",
       "      <td>310</td>\n",
       "      <td>3</td>\n",
       "      <td>2</td>\n",
       "      <td>4</td>\n",
       "      <td>R$ 685.000</td>\n",
       "    </tr>\n",
       "    <tr>\n",
       "      <th>4</th>\n",
       "      <td>Rua Tobias Barreto, 195</td>\n",
       "      <td>Mooca</td>\n",
       "      <td>São Paulo</td>\n",
       "      <td>100</td>\n",
       "      <td>3</td>\n",
       "      <td>2</td>\n",
       "      <td>2</td>\n",
       "      <td>R$ 540.000</td>\n",
       "    </tr>\n",
       "    <tr>\n",
       "      <th>...</th>\n",
       "      <td>...</td>\n",
       "      <td>...</td>\n",
       "      <td>...</td>\n",
       "      <td>...</td>\n",
       "      <td>...</td>\n",
       "      <td>...</td>\n",
       "      <td>...</td>\n",
       "      <td>...</td>\n",
       "    </tr>\n",
       "    <tr>\n",
       "      <th>10003</th>\n",
       "      <td>Rua Tapuçu</td>\n",
       "      <td>Vila Sofia</td>\n",
       "      <td>São Paulo</td>\n",
       "      <td>95</td>\n",
       "      <td>2</td>\n",
       "      <td>2</td>\n",
       "      <td>2</td>\n",
       "      <td>R$ 665.000</td>\n",
       "    </tr>\n",
       "    <tr>\n",
       "      <th>10004</th>\n",
       "      <td>Rua Guararema</td>\n",
       "      <td>Bosque da Saúde</td>\n",
       "      <td>São Paulo</td>\n",
       "      <td>605</td>\n",
       "      <td>8</td>\n",
       "      <td>7</td>\n",
       "      <td>5</td>\n",
       "      <td>R$ 2.300.000</td>\n",
       "    </tr>\n",
       "    <tr>\n",
       "      <th>10005</th>\n",
       "      <td>Rua Estero Belaco</td>\n",
       "      <td>Vila da Saúde</td>\n",
       "      <td>São Paulo</td>\n",
       "      <td>205</td>\n",
       "      <td>3</td>\n",
       "      <td>3</td>\n",
       "      <td>6</td>\n",
       "      <td>R$ 1.050.000</td>\n",
       "    </tr>\n",
       "    <tr>\n",
       "      <th>10006</th>\n",
       "      <td>Rua Manuel Onha, , 514</td>\n",
       "      <td>Vila Oratório</td>\n",
       "      <td>São Paulo</td>\n",
       "      <td>185</td>\n",
       "      <td>3</td>\n",
       "      <td>2</td>\n",
       "      <td>2</td>\n",
       "      <td>R$ 2.200\\n                      /Mês</td>\n",
       "    </tr>\n",
       "    <tr>\n",
       "      <th>10007</th>\n",
       "      <td>Rua Barão de Tramandaí, 0</td>\n",
       "      <td>Vila Alpina</td>\n",
       "      <td>São Paulo</td>\n",
       "      <td>122</td>\n",
       "      <td>3</td>\n",
       "      <td>2</td>\n",
       "      <td>2</td>\n",
       "      <td>R$ 270.000</td>\n",
       "    </tr>\n",
       "  </tbody>\n",
       "</table>\n",
       "<p>10008 rows × 8 columns</p>\n",
       "</div>"
      ],
      "text/plain": [
       "                                  Rua              Bairro     Cidade  \\\n",
       "0               Avenida Itacira, 255    Planalto Paulista  São Paulo   \n",
       "1      Rua Aurelia Perez Alvarez, 42   Jardim dos Estados  São Paulo   \n",
       "2                     Rua Alba Valdez     Jardim Reimberg  São Paulo   \n",
       "3                                 NaN      Jardim Morumbi  São Paulo   \n",
       "4            Rua Tobias Barreto, 195                Mooca  São Paulo   \n",
       "...                               ...                 ...        ...   \n",
       "10003                      Rua Tapuçu          Vila Sofia  São Paulo   \n",
       "10004                   Rua Guararema     Bosque da Saúde  São Paulo   \n",
       "10005               Rua Estero Belaco       Vila da Saúde  São Paulo   \n",
       "10006         Rua Manuel Onha, , 514        Vila Oratório  São Paulo   \n",
       "10007      Rua Barão de Tramandaí, 0          Vila Alpina  São Paulo   \n",
       "\n",
       "       Metragem  Quartos  Banheiros  Vagas  \\\n",
       "0          1000        4          8      6   \n",
       "1           496        4          4      4   \n",
       "2           125        4          3      2   \n",
       "3           310        3          2      4   \n",
       "4           100        3          2      2   \n",
       "...         ...      ...        ...    ...   \n",
       "10003        95        2          2      2   \n",
       "10004       605        8          7      5   \n",
       "10005       205        3          3      6   \n",
       "10006       185        3          2      2   \n",
       "10007       122        3          2      2   \n",
       "\n",
       "                                      Valor  \n",
       "0                              R$ 7.000.000  \n",
       "1                              R$ 3.700.000  \n",
       "2                                R$ 380.000  \n",
       "3                                R$ 685.000  \n",
       "4                                R$ 540.000  \n",
       "...                                     ...  \n",
       "10003                            R$ 665.000  \n",
       "10004                          R$ 2.300.000  \n",
       "10005                          R$ 1.050.000  \n",
       "10006  R$ 2.200\\n                      /Mês  \n",
       "10007                            R$ 270.000  \n",
       "\n",
       "[10008 rows x 8 columns]"
      ]
     },
     "execution_count": 5,
     "metadata": {},
     "output_type": "execute_result"
    }
   ],
   "source": [
    "dados = pd.read_csv('dados_imoveis.csv')\n",
    "dados"
   ]
  },
  {
   "cell_type": "code",
   "execution_count": 6,
   "id": "141cdd66",
   "metadata": {
    "ExecuteTime": {
     "end_time": "2022-09-09T15:03:49.766619Z",
     "start_time": "2022-09-09T15:03:49.757375Z"
    }
   },
   "outputs": [
    {
     "name": "stdout",
     "output_type": "stream",
     "text": [
      "Nosso primeiro Conjunto de Dados tem 10008 linhas e 8 colunas.\n"
     ]
    }
   ],
   "source": [
    "print(f'Nosso primeiro Conjunto de Dados tem {dados.shape[0]} linhas e {dados.shape[1]} colunas.')"
   ]
  },
  {
   "cell_type": "markdown",
   "id": "5bfdd945",
   "metadata": {
    "heading_collapsed": true
   },
   "source": [
    "# Informações do DataFrame"
   ]
  },
  {
   "cell_type": "code",
   "execution_count": 7,
   "id": "724b34f9",
   "metadata": {
    "ExecuteTime": {
     "end_time": "2022-09-09T15:03:49.812104Z",
     "start_time": "2022-09-09T15:03:49.770349Z"
    },
    "hidden": true
   },
   "outputs": [
    {
     "name": "stdout",
     "output_type": "stream",
     "text": [
      "<class 'pandas.core.frame.DataFrame'>\n",
      "RangeIndex: 10008 entries, 0 to 10007\n",
      "Data columns (total 8 columns):\n",
      " #   Column     Non-Null Count  Dtype \n",
      "---  ------     --------------  ----- \n",
      " 0   Rua        6574 non-null   object\n",
      " 1   Bairro     9996 non-null   object\n",
      " 2   Cidade     10008 non-null  object\n",
      " 3   Metragem   10008 non-null  int64 \n",
      " 4   Quartos    10008 non-null  int64 \n",
      " 5   Banheiros  10008 non-null  int64 \n",
      " 6   Vagas      10008 non-null  int64 \n",
      " 7   Valor      10008 non-null  object\n",
      "dtypes: int64(4), object(4)\n",
      "memory usage: 625.6+ KB\n"
     ]
    }
   ],
   "source": [
    "dados.info()"
   ]
  },
  {
   "cell_type": "markdown",
   "id": "74d75816",
   "metadata": {
    "hidden": true
   },
   "source": [
    "O DataFrame consta com **7 variáveis**. \n",
    "\n",
    "Podemos notar que a variável **Valor** está como 'object'. Precisaremos transformar em uma variável numérica.\n",
    "\n",
    "Há **valores nulos** nas colunas **Rua e Bairro**. Faremos uma investigação posteriormente."
   ]
  },
  {
   "cell_type": "code",
   "execution_count": 8,
   "id": "cccbbbf2",
   "metadata": {
    "ExecuteTime": {
     "end_time": "2022-09-09T15:03:49.871392Z",
     "start_time": "2022-09-09T15:03:49.819209Z"
    },
    "hidden": true
   },
   "outputs": [
    {
     "data": {
      "text/html": [
       "<div>\n",
       "<style scoped>\n",
       "    .dataframe tbody tr th:only-of-type {\n",
       "        vertical-align: middle;\n",
       "    }\n",
       "\n",
       "    .dataframe tbody tr th {\n",
       "        vertical-align: top;\n",
       "    }\n",
       "\n",
       "    .dataframe thead th {\n",
       "        text-align: right;\n",
       "    }\n",
       "</style>\n",
       "<table border=\"1\" class=\"dataframe\">\n",
       "  <thead>\n",
       "    <tr style=\"text-align: right;\">\n",
       "      <th></th>\n",
       "      <th>Metragem</th>\n",
       "      <th>Quartos</th>\n",
       "      <th>Banheiros</th>\n",
       "      <th>Vagas</th>\n",
       "    </tr>\n",
       "  </thead>\n",
       "  <tbody>\n",
       "    <tr>\n",
       "      <th>count</th>\n",
       "      <td>10008.000000</td>\n",
       "      <td>10008.000000</td>\n",
       "      <td>10008.000000</td>\n",
       "      <td>10008.000000</td>\n",
       "    </tr>\n",
       "    <tr>\n",
       "      <th>mean</th>\n",
       "      <td>442.300659</td>\n",
       "      <td>3.483114</td>\n",
       "      <td>3.879097</td>\n",
       "      <td>4.097222</td>\n",
       "    </tr>\n",
       "    <tr>\n",
       "      <th>std</th>\n",
       "      <td>7515.379389</td>\n",
       "      <td>1.064200</td>\n",
       "      <td>1.988467</td>\n",
       "      <td>2.824014</td>\n",
       "    </tr>\n",
       "    <tr>\n",
       "      <th>min</th>\n",
       "      <td>10.000000</td>\n",
       "      <td>1.000000</td>\n",
       "      <td>1.000000</td>\n",
       "      <td>1.000000</td>\n",
       "    </tr>\n",
       "    <tr>\n",
       "      <th>25%</th>\n",
       "      <td>173.000000</td>\n",
       "      <td>3.000000</td>\n",
       "      <td>2.000000</td>\n",
       "      <td>2.000000</td>\n",
       "    </tr>\n",
       "    <tr>\n",
       "      <th>50%</th>\n",
       "      <td>290.000000</td>\n",
       "      <td>3.000000</td>\n",
       "      <td>4.000000</td>\n",
       "      <td>4.000000</td>\n",
       "    </tr>\n",
       "    <tr>\n",
       "      <th>75%</th>\n",
       "      <td>460.250000</td>\n",
       "      <td>4.000000</td>\n",
       "      <td>5.000000</td>\n",
       "      <td>5.000000</td>\n",
       "    </tr>\n",
       "    <tr>\n",
       "      <th>max</th>\n",
       "      <td>750000.000000</td>\n",
       "      <td>16.000000</td>\n",
       "      <td>40.000000</td>\n",
       "      <td>50.000000</td>\n",
       "    </tr>\n",
       "  </tbody>\n",
       "</table>\n",
       "</div>"
      ],
      "text/plain": [
       "            Metragem       Quartos     Banheiros         Vagas\n",
       "count   10008.000000  10008.000000  10008.000000  10008.000000\n",
       "mean      442.300659      3.483114      3.879097      4.097222\n",
       "std      7515.379389      1.064200      1.988467      2.824014\n",
       "min        10.000000      1.000000      1.000000      1.000000\n",
       "25%       173.000000      3.000000      2.000000      2.000000\n",
       "50%       290.000000      3.000000      4.000000      4.000000\n",
       "75%       460.250000      4.000000      5.000000      5.000000\n",
       "max    750000.000000     16.000000     40.000000     50.000000"
      ]
     },
     "execution_count": 8,
     "metadata": {},
     "output_type": "execute_result"
    }
   ],
   "source": [
    "dados.describe()"
   ]
  },
  {
   "cell_type": "code",
   "execution_count": 9,
   "id": "923bbfbb",
   "metadata": {
    "ExecuteTime": {
     "end_time": "2022-09-09T15:03:49.923513Z",
     "start_time": "2022-09-09T15:03:49.880261Z"
    },
    "hidden": true
   },
   "outputs": [
    {
     "data": {
      "text/html": [
       "<div>\n",
       "<style scoped>\n",
       "    .dataframe tbody tr th:only-of-type {\n",
       "        vertical-align: middle;\n",
       "    }\n",
       "\n",
       "    .dataframe tbody tr th {\n",
       "        vertical-align: top;\n",
       "    }\n",
       "\n",
       "    .dataframe thead th {\n",
       "        text-align: right;\n",
       "    }\n",
       "</style>\n",
       "<table border=\"1\" class=\"dataframe\">\n",
       "  <thead>\n",
       "    <tr style=\"text-align: right;\">\n",
       "      <th></th>\n",
       "      <th>Rua</th>\n",
       "      <th>Bairro</th>\n",
       "      <th>Cidade</th>\n",
       "      <th>Valor</th>\n",
       "    </tr>\n",
       "  </thead>\n",
       "  <tbody>\n",
       "    <tr>\n",
       "      <th>count</th>\n",
       "      <td>6574</td>\n",
       "      <td>9996</td>\n",
       "      <td>10008</td>\n",
       "      <td>10008</td>\n",
       "    </tr>\n",
       "    <tr>\n",
       "      <th>unique</th>\n",
       "      <td>3130</td>\n",
       "      <td>701</td>\n",
       "      <td>1</td>\n",
       "      <td>1041</td>\n",
       "    </tr>\n",
       "    <tr>\n",
       "      <th>top</th>\n",
       "      <td>Rua Alberto Faria</td>\n",
       "      <td>Alto de Pinheiros</td>\n",
       "      <td>São Paulo</td>\n",
       "      <td>R$ 2.500.000</td>\n",
       "    </tr>\n",
       "    <tr>\n",
       "      <th>freq</th>\n",
       "      <td>24</td>\n",
       "      <td>409</td>\n",
       "      <td>10008</td>\n",
       "      <td>182</td>\n",
       "    </tr>\n",
       "  </tbody>\n",
       "</table>\n",
       "</div>"
      ],
      "text/plain": [
       "                      Rua             Bairro     Cidade         Valor\n",
       "count                6574               9996      10008         10008\n",
       "unique               3130                701          1          1041\n",
       "top     Rua Alberto Faria  Alto de Pinheiros  São Paulo  R$ 2.500.000\n",
       "freq                   24                409      10008           182"
      ]
     },
     "execution_count": 9,
     "metadata": {},
     "output_type": "execute_result"
    }
   ],
   "source": [
    "dados.describe(include=[object])"
   ]
  },
  {
   "cell_type": "markdown",
   "id": "5fd97874",
   "metadata": {
    "hidden": true
   },
   "source": [
    "Para começar a análise, vamos utilizar o método **.describe()** para entender alguns métodos estatísticos que temos dentro da base de dados. O método describe() fornece as informações sobre:\n",
    "\n",
    "- Para variáveis **quantitativas**:\n",
    "\n",
    "   - **count** - Conta a quantidade de número de valores não vazios. Com esses valores podemos entender melhor o tamanho da amostra.\n",
    "\n",
    "   - **mean** - O valor médio, em média aritmética. \n",
    "\n",
    "   - **std** - O desvio padrão. É a medida de como os dados se dispersam em relação à média, ou seja, o quanto eles estão espalhados.\n",
    "\n",
    "   - **min e max** - Valores que auxiliam a identificar a amplitude da amostra, entre o valor mínimo e máximo.\n",
    "\n",
    "   - **quartis** - Valores que nos mostram de que forma os dados foram distribuídos, por exemplo em 50% é a mediana e metade dos valores são inferiores a X valor, a outra metade é superior àquele valor.\n",
    "\n",
    "\n",
    "- Para variáveis **categóricas**:\n",
    "\n",
    "    - **unique** é a quantidade de valores únicos\n",
    "\n",
    "    - **top** é o valor mais comum\n",
    "\n",
    "    - **freq** é a frequência do valor mais comum"
   ]
  },
  {
   "cell_type": "markdown",
   "id": "a7139583",
   "metadata": {},
   "source": [
    "# Análise exploratória"
   ]
  },
  {
   "cell_type": "markdown",
   "id": "faba7893",
   "metadata": {
    "heading_collapsed": true
   },
   "source": [
    "## Excluindo valores nulos e a coluna 'Rua'"
   ]
  },
  {
   "cell_type": "code",
   "execution_count": 10,
   "id": "036afd3f",
   "metadata": {
    "ExecuteTime": {
     "end_time": "2022-09-09T15:03:49.951547Z",
     "start_time": "2022-09-09T15:03:49.933117Z"
    },
    "hidden": true
   },
   "outputs": [],
   "source": [
    "dados.drop(['Rua'], axis=1, inplace=True)"
   ]
  },
  {
   "cell_type": "code",
   "execution_count": 11,
   "id": "5c020fe2",
   "metadata": {
    "ExecuteTime": {
     "end_time": "2022-09-09T15:03:49.973378Z",
     "start_time": "2022-09-09T15:03:49.958158Z"
    },
    "hidden": true
   },
   "outputs": [],
   "source": [
    "dados.dropna(inplace=True)"
   ]
  },
  {
   "cell_type": "code",
   "execution_count": 12,
   "id": "84e04f1e",
   "metadata": {
    "ExecuteTime": {
     "end_time": "2022-09-09T15:03:50.007232Z",
     "start_time": "2022-09-09T15:03:49.978636Z"
    },
    "hidden": true
   },
   "outputs": [
    {
     "name": "stdout",
     "output_type": "stream",
     "text": [
      "<class 'pandas.core.frame.DataFrame'>\n",
      "Int64Index: 9996 entries, 0 to 10007\n",
      "Data columns (total 7 columns):\n",
      " #   Column     Non-Null Count  Dtype \n",
      "---  ------     --------------  ----- \n",
      " 0   Bairro     9996 non-null   object\n",
      " 1   Cidade     9996 non-null   object\n",
      " 2   Metragem   9996 non-null   int64 \n",
      " 3   Quartos    9996 non-null   int64 \n",
      " 4   Banheiros  9996 non-null   int64 \n",
      " 5   Vagas      9996 non-null   int64 \n",
      " 6   Valor      9996 non-null   object\n",
      "dtypes: int64(4), object(3)\n",
      "memory usage: 624.8+ KB\n"
     ]
    }
   ],
   "source": [
    "dados.info()"
   ]
  },
  {
   "cell_type": "markdown",
   "id": "6288f2ce",
   "metadata": {},
   "source": [
    "## Transformando o tipo da variável Valor de categórica para numérica"
   ]
  },
  {
   "cell_type": "markdown",
   "id": "9fca6953",
   "metadata": {},
   "source": [
    "### Dividindo a coluna 'Valor' em 3 colunas para podermos extrair somente o valor numérico"
   ]
  },
  {
   "cell_type": "code",
   "execution_count": 13,
   "id": "d24be664",
   "metadata": {
    "ExecuteTime": {
     "end_time": "2022-09-09T15:03:50.172072Z",
     "start_time": "2022-09-09T15:03:50.024004Z"
    }
   },
   "outputs": [
    {
     "data": {
      "text/html": [
       "<div>\n",
       "<style scoped>\n",
       "    .dataframe tbody tr th:only-of-type {\n",
       "        vertical-align: middle;\n",
       "    }\n",
       "\n",
       "    .dataframe tbody tr th {\n",
       "        vertical-align: top;\n",
       "    }\n",
       "\n",
       "    .dataframe thead th {\n",
       "        text-align: right;\n",
       "    }\n",
       "</style>\n",
       "<table border=\"1\" class=\"dataframe\">\n",
       "  <thead>\n",
       "    <tr style=\"text-align: right;\">\n",
       "      <th></th>\n",
       "      <th>0</th>\n",
       "      <th>1</th>\n",
       "      <th>2</th>\n",
       "    </tr>\n",
       "  </thead>\n",
       "  <tbody>\n",
       "    <tr>\n",
       "      <th>0</th>\n",
       "      <td>R$</td>\n",
       "      <td>7.000.000</td>\n",
       "      <td>None</td>\n",
       "    </tr>\n",
       "    <tr>\n",
       "      <th>1</th>\n",
       "      <td>R$</td>\n",
       "      <td>3.700.000</td>\n",
       "      <td>None</td>\n",
       "    </tr>\n",
       "    <tr>\n",
       "      <th>2</th>\n",
       "      <td>R$</td>\n",
       "      <td>380.000</td>\n",
       "      <td>None</td>\n",
       "    </tr>\n",
       "    <tr>\n",
       "      <th>3</th>\n",
       "      <td>R$</td>\n",
       "      <td>685.000</td>\n",
       "      <td>None</td>\n",
       "    </tr>\n",
       "    <tr>\n",
       "      <th>4</th>\n",
       "      <td>R$</td>\n",
       "      <td>540.000</td>\n",
       "      <td>None</td>\n",
       "    </tr>\n",
       "    <tr>\n",
       "      <th>...</th>\n",
       "      <td>...</td>\n",
       "      <td>...</td>\n",
       "      <td>...</td>\n",
       "    </tr>\n",
       "    <tr>\n",
       "      <th>10003</th>\n",
       "      <td>R$</td>\n",
       "      <td>665.000</td>\n",
       "      <td>None</td>\n",
       "    </tr>\n",
       "    <tr>\n",
       "      <th>10004</th>\n",
       "      <td>R$</td>\n",
       "      <td>2.300.000</td>\n",
       "      <td>None</td>\n",
       "    </tr>\n",
       "    <tr>\n",
       "      <th>10005</th>\n",
       "      <td>R$</td>\n",
       "      <td>1.050.000</td>\n",
       "      <td>None</td>\n",
       "    </tr>\n",
       "    <tr>\n",
       "      <th>10006</th>\n",
       "      <td>R$</td>\n",
       "      <td>2.200</td>\n",
       "      <td>/Mês</td>\n",
       "    </tr>\n",
       "    <tr>\n",
       "      <th>10007</th>\n",
       "      <td>R$</td>\n",
       "      <td>270.000</td>\n",
       "      <td>None</td>\n",
       "    </tr>\n",
       "  </tbody>\n",
       "</table>\n",
       "<p>9996 rows × 3 columns</p>\n",
       "</div>"
      ],
      "text/plain": [
       "        0          1     2\n",
       "0      R$  7.000.000  None\n",
       "1      R$  3.700.000  None\n",
       "2      R$    380.000  None\n",
       "3      R$    685.000  None\n",
       "4      R$    540.000  None\n",
       "...    ..        ...   ...\n",
       "10003  R$    665.000  None\n",
       "10004  R$  2.300.000  None\n",
       "10005  R$  1.050.000  None\n",
       "10006  R$      2.200  /Mês\n",
       "10007  R$    270.000  None\n",
       "\n",
       "[9996 rows x 3 columns]"
      ]
     },
     "execution_count": 13,
     "metadata": {},
     "output_type": "execute_result"
    }
   ],
   "source": [
    "dados['Valor'].str.split(expand=True)"
   ]
  },
  {
   "cell_type": "code",
   "execution_count": 14,
   "id": "c98fa2ab",
   "metadata": {
    "ExecuteTime": {
     "end_time": "2022-09-09T15:03:50.286813Z",
     "start_time": "2022-09-09T15:03:50.175779Z"
    }
   },
   "outputs": [
    {
     "data": {
      "text/plain": [
       "array(['R$'], dtype=object)"
      ]
     },
     "execution_count": 14,
     "metadata": {},
     "output_type": "execute_result"
    }
   ],
   "source": [
    "dados['Valor'].str.split(expand=True)[0].unique()"
   ]
  },
  {
   "cell_type": "code",
   "execution_count": 15,
   "id": "424c695c",
   "metadata": {
    "ExecuteTime": {
     "end_time": "2022-09-09T15:03:50.430224Z",
     "start_time": "2022-09-09T15:03:50.377714Z"
    }
   },
   "outputs": [
    {
     "data": {
      "text/plain": [
       "array(['7.000.000', '3.700.000', '380.000', ..., '553.000', '951.000',\n",
       "       '2.200'], dtype=object)"
      ]
     },
     "execution_count": 15,
     "metadata": {},
     "output_type": "execute_result"
    }
   ],
   "source": [
    "dados['Valor'].str.split(expand=True)[1].unique()"
   ]
  },
  {
   "cell_type": "code",
   "execution_count": 16,
   "id": "05fe7e95",
   "metadata": {
    "ExecuteTime": {
     "end_time": "2022-09-09T15:03:50.485549Z",
     "start_time": "2022-09-09T15:03:50.437614Z"
    }
   },
   "outputs": [
    {
     "data": {
      "text/plain": [
       "1036"
      ]
     },
     "execution_count": 16,
     "metadata": {},
     "output_type": "execute_result"
    }
   ],
   "source": [
    "len(dados['Valor'].str.split(expand=True)[1].unique())"
   ]
  },
  {
   "cell_type": "code",
   "execution_count": 17,
   "id": "e40333b9",
   "metadata": {
    "ExecuteTime": {
     "end_time": "2022-09-09T15:03:50.571920Z",
     "start_time": "2022-09-09T15:03:50.497111Z"
    }
   },
   "outputs": [
    {
     "data": {
      "text/plain": [
       "array([None, '/Mês', '/Ano', '/Dia'], dtype=object)"
      ]
     },
     "execution_count": 17,
     "metadata": {},
     "output_type": "execute_result"
    }
   ],
   "source": [
    "dados['Valor'].str.split(expand=True)[2].unique()"
   ]
  },
  {
   "cell_type": "code",
   "execution_count": 18,
   "id": "0f80ffcb",
   "metadata": {
    "ExecuteTime": {
     "end_time": "2022-09-09T15:03:50.685168Z",
     "start_time": "2022-09-09T15:03:50.581995Z"
    }
   },
   "outputs": [
    {
     "data": {
      "text/html": [
       "<div>\n",
       "<style scoped>\n",
       "    .dataframe tbody tr th:only-of-type {\n",
       "        vertical-align: middle;\n",
       "    }\n",
       "\n",
       "    .dataframe tbody tr th {\n",
       "        vertical-align: top;\n",
       "    }\n",
       "\n",
       "    .dataframe thead th {\n",
       "        text-align: right;\n",
       "    }\n",
       "</style>\n",
       "<table border=\"1\" class=\"dataframe\">\n",
       "  <thead>\n",
       "    <tr style=\"text-align: right;\">\n",
       "      <th></th>\n",
       "      <th>Bairro</th>\n",
       "      <th>Cidade</th>\n",
       "      <th>Metragem</th>\n",
       "      <th>Quartos</th>\n",
       "      <th>Banheiros</th>\n",
       "      <th>Vagas</th>\n",
       "      <th>Valor</th>\n",
       "      <th>Moeda</th>\n",
       "      <th>Valor_anuncio</th>\n",
       "      <th>Tipo_anuncio</th>\n",
       "    </tr>\n",
       "  </thead>\n",
       "  <tbody>\n",
       "    <tr>\n",
       "      <th>0</th>\n",
       "      <td>Planalto Paulista</td>\n",
       "      <td>São Paulo</td>\n",
       "      <td>1000</td>\n",
       "      <td>4</td>\n",
       "      <td>8</td>\n",
       "      <td>6</td>\n",
       "      <td>R$ 7.000.000</td>\n",
       "      <td>R$</td>\n",
       "      <td>7.000.000</td>\n",
       "      <td>None</td>\n",
       "    </tr>\n",
       "    <tr>\n",
       "      <th>1</th>\n",
       "      <td>Jardim dos Estados</td>\n",
       "      <td>São Paulo</td>\n",
       "      <td>496</td>\n",
       "      <td>4</td>\n",
       "      <td>4</td>\n",
       "      <td>4</td>\n",
       "      <td>R$ 3.700.000</td>\n",
       "      <td>R$</td>\n",
       "      <td>3.700.000</td>\n",
       "      <td>None</td>\n",
       "    </tr>\n",
       "    <tr>\n",
       "      <th>2</th>\n",
       "      <td>Jardim Reimberg</td>\n",
       "      <td>São Paulo</td>\n",
       "      <td>125</td>\n",
       "      <td>4</td>\n",
       "      <td>3</td>\n",
       "      <td>2</td>\n",
       "      <td>R$ 380.000</td>\n",
       "      <td>R$</td>\n",
       "      <td>380.000</td>\n",
       "      <td>None</td>\n",
       "    </tr>\n",
       "    <tr>\n",
       "      <th>3</th>\n",
       "      <td>Jardim Morumbi</td>\n",
       "      <td>São Paulo</td>\n",
       "      <td>310</td>\n",
       "      <td>3</td>\n",
       "      <td>2</td>\n",
       "      <td>4</td>\n",
       "      <td>R$ 685.000</td>\n",
       "      <td>R$</td>\n",
       "      <td>685.000</td>\n",
       "      <td>None</td>\n",
       "    </tr>\n",
       "    <tr>\n",
       "      <th>4</th>\n",
       "      <td>Mooca</td>\n",
       "      <td>São Paulo</td>\n",
       "      <td>100</td>\n",
       "      <td>3</td>\n",
       "      <td>2</td>\n",
       "      <td>2</td>\n",
       "      <td>R$ 540.000</td>\n",
       "      <td>R$</td>\n",
       "      <td>540.000</td>\n",
       "      <td>None</td>\n",
       "    </tr>\n",
       "    <tr>\n",
       "      <th>...</th>\n",
       "      <td>...</td>\n",
       "      <td>...</td>\n",
       "      <td>...</td>\n",
       "      <td>...</td>\n",
       "      <td>...</td>\n",
       "      <td>...</td>\n",
       "      <td>...</td>\n",
       "      <td>...</td>\n",
       "      <td>...</td>\n",
       "      <td>...</td>\n",
       "    </tr>\n",
       "    <tr>\n",
       "      <th>10003</th>\n",
       "      <td>Vila Sofia</td>\n",
       "      <td>São Paulo</td>\n",
       "      <td>95</td>\n",
       "      <td>2</td>\n",
       "      <td>2</td>\n",
       "      <td>2</td>\n",
       "      <td>R$ 665.000</td>\n",
       "      <td>R$</td>\n",
       "      <td>665.000</td>\n",
       "      <td>None</td>\n",
       "    </tr>\n",
       "    <tr>\n",
       "      <th>10004</th>\n",
       "      <td>Bosque da Saúde</td>\n",
       "      <td>São Paulo</td>\n",
       "      <td>605</td>\n",
       "      <td>8</td>\n",
       "      <td>7</td>\n",
       "      <td>5</td>\n",
       "      <td>R$ 2.300.000</td>\n",
       "      <td>R$</td>\n",
       "      <td>2.300.000</td>\n",
       "      <td>None</td>\n",
       "    </tr>\n",
       "    <tr>\n",
       "      <th>10005</th>\n",
       "      <td>Vila da Saúde</td>\n",
       "      <td>São Paulo</td>\n",
       "      <td>205</td>\n",
       "      <td>3</td>\n",
       "      <td>3</td>\n",
       "      <td>6</td>\n",
       "      <td>R$ 1.050.000</td>\n",
       "      <td>R$</td>\n",
       "      <td>1.050.000</td>\n",
       "      <td>None</td>\n",
       "    </tr>\n",
       "    <tr>\n",
       "      <th>10006</th>\n",
       "      <td>Vila Oratório</td>\n",
       "      <td>São Paulo</td>\n",
       "      <td>185</td>\n",
       "      <td>3</td>\n",
       "      <td>2</td>\n",
       "      <td>2</td>\n",
       "      <td>R$ 2.200\\n                      /Mês</td>\n",
       "      <td>R$</td>\n",
       "      <td>2.200</td>\n",
       "      <td>/Mês</td>\n",
       "    </tr>\n",
       "    <tr>\n",
       "      <th>10007</th>\n",
       "      <td>Vila Alpina</td>\n",
       "      <td>São Paulo</td>\n",
       "      <td>122</td>\n",
       "      <td>3</td>\n",
       "      <td>2</td>\n",
       "      <td>2</td>\n",
       "      <td>R$ 270.000</td>\n",
       "      <td>R$</td>\n",
       "      <td>270.000</td>\n",
       "      <td>None</td>\n",
       "    </tr>\n",
       "  </tbody>\n",
       "</table>\n",
       "<p>9996 rows × 10 columns</p>\n",
       "</div>"
      ],
      "text/plain": [
       "                   Bairro     Cidade  Metragem  Quartos  Banheiros  Vagas  \\\n",
       "0       Planalto Paulista  São Paulo      1000        4          8      6   \n",
       "1      Jardim dos Estados  São Paulo       496        4          4      4   \n",
       "2         Jardim Reimberg  São Paulo       125        4          3      2   \n",
       "3          Jardim Morumbi  São Paulo       310        3          2      4   \n",
       "4                   Mooca  São Paulo       100        3          2      2   \n",
       "...                   ...        ...       ...      ...        ...    ...   \n",
       "10003          Vila Sofia  São Paulo        95        2          2      2   \n",
       "10004     Bosque da Saúde  São Paulo       605        8          7      5   \n",
       "10005       Vila da Saúde  São Paulo       205        3          3      6   \n",
       "10006       Vila Oratório  São Paulo       185        3          2      2   \n",
       "10007         Vila Alpina  São Paulo       122        3          2      2   \n",
       "\n",
       "                                      Valor Moeda Valor_anuncio Tipo_anuncio  \n",
       "0                              R$ 7.000.000    R$     7.000.000         None  \n",
       "1                              R$ 3.700.000    R$     3.700.000         None  \n",
       "2                                R$ 380.000    R$       380.000         None  \n",
       "3                                R$ 685.000    R$       685.000         None  \n",
       "4                                R$ 540.000    R$       540.000         None  \n",
       "...                                     ...   ...           ...          ...  \n",
       "10003                            R$ 665.000    R$       665.000         None  \n",
       "10004                          R$ 2.300.000    R$     2.300.000         None  \n",
       "10005                          R$ 1.050.000    R$     1.050.000         None  \n",
       "10006  R$ 2.200\\n                      /Mês    R$         2.200         /Mês  \n",
       "10007                            R$ 270.000    R$       270.000         None  \n",
       "\n",
       "[9996 rows x 10 columns]"
      ]
     },
     "execution_count": 18,
     "metadata": {},
     "output_type": "execute_result"
    }
   ],
   "source": [
    "dados[['Moeda', 'Valor_anuncio', 'Tipo_anuncio']] = dados['Valor'].str.split(expand=True)\n",
    "dados"
   ]
  },
  {
   "cell_type": "code",
   "execution_count": 19,
   "id": "7384f527",
   "metadata": {
    "ExecuteTime": {
     "end_time": "2022-09-09T15:03:50.753859Z",
     "start_time": "2022-09-09T15:03:50.720306Z"
    }
   },
   "outputs": [
    {
     "data": {
      "text/plain": [
       "array([None], dtype=object)"
      ]
     },
     "execution_count": 19,
     "metadata": {},
     "output_type": "execute_result"
    }
   ],
   "source": [
    "dados[dados['Tipo_anuncio'].isnull()]['Tipo_anuncio'].unique()"
   ]
  },
  {
   "cell_type": "markdown",
   "id": "0ef116be",
   "metadata": {},
   "source": [
    "Conseguimos verificar que na coluna 'Valor' há opções '/Mês', '/Ano', '/Dia, o que indica que nesta base dados há tambem imóveis para aluguel. Iremos fazer um novo dataframe somente com imóveis que estão disponíveis para venda."
   ]
  },
  {
   "cell_type": "code",
   "execution_count": 20,
   "id": "d08675c9",
   "metadata": {
    "ExecuteTime": {
     "end_time": "2022-09-09T15:03:50.821837Z",
     "start_time": "2022-09-09T15:03:50.774438Z"
    }
   },
   "outputs": [
    {
     "data": {
      "text/html": [
       "<div>\n",
       "<style scoped>\n",
       "    .dataframe tbody tr th:only-of-type {\n",
       "        vertical-align: middle;\n",
       "    }\n",
       "\n",
       "    .dataframe tbody tr th {\n",
       "        vertical-align: top;\n",
       "    }\n",
       "\n",
       "    .dataframe thead th {\n",
       "        text-align: right;\n",
       "    }\n",
       "</style>\n",
       "<table border=\"1\" class=\"dataframe\">\n",
       "  <thead>\n",
       "    <tr style=\"text-align: right;\">\n",
       "      <th></th>\n",
       "      <th>Bairro</th>\n",
       "      <th>Cidade</th>\n",
       "      <th>Metragem</th>\n",
       "      <th>Quartos</th>\n",
       "      <th>Banheiros</th>\n",
       "      <th>Vagas</th>\n",
       "      <th>Valor</th>\n",
       "      <th>Moeda</th>\n",
       "      <th>Valor_anuncio</th>\n",
       "      <th>Tipo_anuncio</th>\n",
       "    </tr>\n",
       "  </thead>\n",
       "  <tbody>\n",
       "    <tr>\n",
       "      <th>0</th>\n",
       "      <td>Planalto Paulista</td>\n",
       "      <td>São Paulo</td>\n",
       "      <td>1000</td>\n",
       "      <td>4</td>\n",
       "      <td>8</td>\n",
       "      <td>6</td>\n",
       "      <td>R$ 7.000.000</td>\n",
       "      <td>R$</td>\n",
       "      <td>7.000.000</td>\n",
       "      <td>None</td>\n",
       "    </tr>\n",
       "    <tr>\n",
       "      <th>1</th>\n",
       "      <td>Jardim dos Estados</td>\n",
       "      <td>São Paulo</td>\n",
       "      <td>496</td>\n",
       "      <td>4</td>\n",
       "      <td>4</td>\n",
       "      <td>4</td>\n",
       "      <td>R$ 3.700.000</td>\n",
       "      <td>R$</td>\n",
       "      <td>3.700.000</td>\n",
       "      <td>None</td>\n",
       "    </tr>\n",
       "    <tr>\n",
       "      <th>2</th>\n",
       "      <td>Jardim Reimberg</td>\n",
       "      <td>São Paulo</td>\n",
       "      <td>125</td>\n",
       "      <td>4</td>\n",
       "      <td>3</td>\n",
       "      <td>2</td>\n",
       "      <td>R$ 380.000</td>\n",
       "      <td>R$</td>\n",
       "      <td>380.000</td>\n",
       "      <td>None</td>\n",
       "    </tr>\n",
       "    <tr>\n",
       "      <th>3</th>\n",
       "      <td>Jardim Morumbi</td>\n",
       "      <td>São Paulo</td>\n",
       "      <td>310</td>\n",
       "      <td>3</td>\n",
       "      <td>2</td>\n",
       "      <td>4</td>\n",
       "      <td>R$ 685.000</td>\n",
       "      <td>R$</td>\n",
       "      <td>685.000</td>\n",
       "      <td>None</td>\n",
       "    </tr>\n",
       "    <tr>\n",
       "      <th>4</th>\n",
       "      <td>Mooca</td>\n",
       "      <td>São Paulo</td>\n",
       "      <td>100</td>\n",
       "      <td>3</td>\n",
       "      <td>2</td>\n",
       "      <td>2</td>\n",
       "      <td>R$ 540.000</td>\n",
       "      <td>R$</td>\n",
       "      <td>540.000</td>\n",
       "      <td>None</td>\n",
       "    </tr>\n",
       "    <tr>\n",
       "      <th>...</th>\n",
       "      <td>...</td>\n",
       "      <td>...</td>\n",
       "      <td>...</td>\n",
       "      <td>...</td>\n",
       "      <td>...</td>\n",
       "      <td>...</td>\n",
       "      <td>...</td>\n",
       "      <td>...</td>\n",
       "      <td>...</td>\n",
       "      <td>...</td>\n",
       "    </tr>\n",
       "    <tr>\n",
       "      <th>10002</th>\n",
       "      <td>Planalto Paulista</td>\n",
       "      <td>São Paulo</td>\n",
       "      <td>267</td>\n",
       "      <td>3</td>\n",
       "      <td>6</td>\n",
       "      <td>4</td>\n",
       "      <td>R$ 1.500.000</td>\n",
       "      <td>R$</td>\n",
       "      <td>1.500.000</td>\n",
       "      <td>None</td>\n",
       "    </tr>\n",
       "    <tr>\n",
       "      <th>10003</th>\n",
       "      <td>Vila Sofia</td>\n",
       "      <td>São Paulo</td>\n",
       "      <td>95</td>\n",
       "      <td>2</td>\n",
       "      <td>2</td>\n",
       "      <td>2</td>\n",
       "      <td>R$ 665.000</td>\n",
       "      <td>R$</td>\n",
       "      <td>665.000</td>\n",
       "      <td>None</td>\n",
       "    </tr>\n",
       "    <tr>\n",
       "      <th>10004</th>\n",
       "      <td>Bosque da Saúde</td>\n",
       "      <td>São Paulo</td>\n",
       "      <td>605</td>\n",
       "      <td>8</td>\n",
       "      <td>7</td>\n",
       "      <td>5</td>\n",
       "      <td>R$ 2.300.000</td>\n",
       "      <td>R$</td>\n",
       "      <td>2.300.000</td>\n",
       "      <td>None</td>\n",
       "    </tr>\n",
       "    <tr>\n",
       "      <th>10005</th>\n",
       "      <td>Vila da Saúde</td>\n",
       "      <td>São Paulo</td>\n",
       "      <td>205</td>\n",
       "      <td>3</td>\n",
       "      <td>3</td>\n",
       "      <td>6</td>\n",
       "      <td>R$ 1.050.000</td>\n",
       "      <td>R$</td>\n",
       "      <td>1.050.000</td>\n",
       "      <td>None</td>\n",
       "    </tr>\n",
       "    <tr>\n",
       "      <th>10007</th>\n",
       "      <td>Vila Alpina</td>\n",
       "      <td>São Paulo</td>\n",
       "      <td>122</td>\n",
       "      <td>3</td>\n",
       "      <td>2</td>\n",
       "      <td>2</td>\n",
       "      <td>R$ 270.000</td>\n",
       "      <td>R$</td>\n",
       "      <td>270.000</td>\n",
       "      <td>None</td>\n",
       "    </tr>\n",
       "  </tbody>\n",
       "</table>\n",
       "<p>9146 rows × 10 columns</p>\n",
       "</div>"
      ],
      "text/plain": [
       "                   Bairro     Cidade  Metragem  Quartos  Banheiros  Vagas  \\\n",
       "0       Planalto Paulista  São Paulo      1000        4          8      6   \n",
       "1      Jardim dos Estados  São Paulo       496        4          4      4   \n",
       "2         Jardim Reimberg  São Paulo       125        4          3      2   \n",
       "3          Jardim Morumbi  São Paulo       310        3          2      4   \n",
       "4                   Mooca  São Paulo       100        3          2      2   \n",
       "...                   ...        ...       ...      ...        ...    ...   \n",
       "10002   Planalto Paulista  São Paulo       267        3          6      4   \n",
       "10003          Vila Sofia  São Paulo        95        2          2      2   \n",
       "10004     Bosque da Saúde  São Paulo       605        8          7      5   \n",
       "10005       Vila da Saúde  São Paulo       205        3          3      6   \n",
       "10007         Vila Alpina  São Paulo       122        3          2      2   \n",
       "\n",
       "              Valor Moeda Valor_anuncio Tipo_anuncio  \n",
       "0      R$ 7.000.000    R$     7.000.000         None  \n",
       "1      R$ 3.700.000    R$     3.700.000         None  \n",
       "2        R$ 380.000    R$       380.000         None  \n",
       "3        R$ 685.000    R$       685.000         None  \n",
       "4        R$ 540.000    R$       540.000         None  \n",
       "...             ...   ...           ...          ...  \n",
       "10002  R$ 1.500.000    R$     1.500.000         None  \n",
       "10003    R$ 665.000    R$       665.000         None  \n",
       "10004  R$ 2.300.000    R$     2.300.000         None  \n",
       "10005  R$ 1.050.000    R$     1.050.000         None  \n",
       "10007    R$ 270.000    R$       270.000         None  \n",
       "\n",
       "[9146 rows x 10 columns]"
      ]
     },
     "execution_count": 20,
     "metadata": {},
     "output_type": "execute_result"
    }
   ],
   "source": [
    "dados_vendas = dados[dados['Tipo_anuncio'].isnull()]\n",
    "dados_vendas"
   ]
  },
  {
   "cell_type": "code",
   "execution_count": 21,
   "id": "8388bba7",
   "metadata": {
    "ExecuteTime": {
     "end_time": "2022-09-09T15:03:50.853210Z",
     "start_time": "2022-09-09T15:03:50.829693Z"
    }
   },
   "outputs": [
    {
     "name": "stderr",
     "output_type": "stream",
     "text": [
      "/var/folders/wq/v6b_q61j6zqc33gpbvj9jb000000gn/T/ipykernel_35828/1622281258.py:1: SettingWithCopyWarning: \n",
      "A value is trying to be set on a copy of a slice from a DataFrame\n",
      "\n",
      "See the caveats in the documentation: https://pandas.pydata.org/pandas-docs/stable/user_guide/indexing.html#returning-a-view-versus-a-copy\n",
      "  dados_vendas.drop(['Tipo_anuncio'], axis=1, inplace=True)\n"
     ]
    }
   ],
   "source": [
    "dados_vendas.drop(['Tipo_anuncio'], axis=1, inplace=True)"
   ]
  },
  {
   "cell_type": "code",
   "execution_count": 22,
   "id": "9bcaa088",
   "metadata": {
    "ExecuteTime": {
     "end_time": "2022-09-09T15:03:50.883776Z",
     "start_time": "2022-09-09T15:03:50.863959Z"
    }
   },
   "outputs": [
    {
     "name": "stderr",
     "output_type": "stream",
     "text": [
      "/var/folders/wq/v6b_q61j6zqc33gpbvj9jb000000gn/T/ipykernel_35828/3539278392.py:1: FutureWarning: The default value of regex will change from True to False in a future version. In addition, single character regular expressions will *not* be treated as literal strings when regex=True.\n",
      "  dados_vendas['Valor_anuncio'] = dados_vendas['Valor_anuncio'].str.replace('.', '').astype(float)\n",
      "/var/folders/wq/v6b_q61j6zqc33gpbvj9jb000000gn/T/ipykernel_35828/3539278392.py:1: SettingWithCopyWarning: \n",
      "A value is trying to be set on a copy of a slice from a DataFrame.\n",
      "Try using .loc[row_indexer,col_indexer] = value instead\n",
      "\n",
      "See the caveats in the documentation: https://pandas.pydata.org/pandas-docs/stable/user_guide/indexing.html#returning-a-view-versus-a-copy\n",
      "  dados_vendas['Valor_anuncio'] = dados_vendas['Valor_anuncio'].str.replace('.', '').astype(float)\n"
     ]
    }
   ],
   "source": [
    "dados_vendas['Valor_anuncio'] = dados_vendas['Valor_anuncio'].str.replace('.', '').astype(float)"
   ]
  },
  {
   "cell_type": "code",
   "execution_count": 23,
   "id": "745d25c2",
   "metadata": {
    "ExecuteTime": {
     "end_time": "2022-09-09T15:03:50.948776Z",
     "start_time": "2022-09-09T15:03:50.902461Z"
    }
   },
   "outputs": [
    {
     "name": "stdout",
     "output_type": "stream",
     "text": [
      "<class 'pandas.core.frame.DataFrame'>\n",
      "Int64Index: 9146 entries, 0 to 10007\n",
      "Data columns (total 9 columns):\n",
      " #   Column         Non-Null Count  Dtype  \n",
      "---  ------         --------------  -----  \n",
      " 0   Bairro         9146 non-null   object \n",
      " 1   Cidade         9146 non-null   object \n",
      " 2   Metragem       9146 non-null   int64  \n",
      " 3   Quartos        9146 non-null   int64  \n",
      " 4   Banheiros      9146 non-null   int64  \n",
      " 5   Vagas          9146 non-null   int64  \n",
      " 6   Valor          9146 non-null   object \n",
      " 7   Moeda          9146 non-null   object \n",
      " 8   Valor_anuncio  9146 non-null   float64\n",
      "dtypes: float64(1), int64(4), object(4)\n",
      "memory usage: 714.5+ KB\n"
     ]
    }
   ],
   "source": [
    "dados_vendas.info()"
   ]
  },
  {
   "cell_type": "markdown",
   "id": "e59a7198",
   "metadata": {},
   "source": [
    "Tipo da variável **Valor_anuncio** dos imóveis à venda ja transformados para **float**, para que possamos fazer operações com estes dados."
   ]
  },
  {
   "cell_type": "code",
   "execution_count": 24,
   "id": "210acaed",
   "metadata": {
    "ExecuteTime": {
     "end_time": "2022-09-09T15:03:51.008420Z",
     "start_time": "2022-09-09T15:03:50.960906Z"
    }
   },
   "outputs": [
    {
     "data": {
      "text/html": [
       "<div>\n",
       "<style scoped>\n",
       "    .dataframe tbody tr th:only-of-type {\n",
       "        vertical-align: middle;\n",
       "    }\n",
       "\n",
       "    .dataframe tbody tr th {\n",
       "        vertical-align: top;\n",
       "    }\n",
       "\n",
       "    .dataframe thead th {\n",
       "        text-align: right;\n",
       "    }\n",
       "</style>\n",
       "<table border=\"1\" class=\"dataframe\">\n",
       "  <thead>\n",
       "    <tr style=\"text-align: right;\">\n",
       "      <th></th>\n",
       "      <th>Metragem</th>\n",
       "      <th>Quartos</th>\n",
       "      <th>Banheiros</th>\n",
       "      <th>Vagas</th>\n",
       "      <th>Valor_anuncio</th>\n",
       "    </tr>\n",
       "  </thead>\n",
       "  <tbody>\n",
       "    <tr>\n",
       "      <th>count</th>\n",
       "      <td>9146.00</td>\n",
       "      <td>9146.00</td>\n",
       "      <td>9146.00</td>\n",
       "      <td>9146.00</td>\n",
       "      <td>9146.00</td>\n",
       "    </tr>\n",
       "    <tr>\n",
       "      <th>mean</th>\n",
       "      <td>434.25</td>\n",
       "      <td>3.45</td>\n",
       "      <td>3.79</td>\n",
       "      <td>3.96</td>\n",
       "      <td>3050596.46</td>\n",
       "    </tr>\n",
       "    <tr>\n",
       "      <th>std</th>\n",
       "      <td>7860.71</td>\n",
       "      <td>1.05</td>\n",
       "      <td>1.97</td>\n",
       "      <td>2.60</td>\n",
       "      <td>3945437.70</td>\n",
       "    </tr>\n",
       "    <tr>\n",
       "      <th>min</th>\n",
       "      <td>10.00</td>\n",
       "      <td>1.00</td>\n",
       "      <td>1.00</td>\n",
       "      <td>1.00</td>\n",
       "      <td>13000.00</td>\n",
       "    </tr>\n",
       "    <tr>\n",
       "      <th>25%</th>\n",
       "      <td>168.00</td>\n",
       "      <td>3.00</td>\n",
       "      <td>2.00</td>\n",
       "      <td>2.00</td>\n",
       "      <td>890000.00</td>\n",
       "    </tr>\n",
       "    <tr>\n",
       "      <th>50%</th>\n",
       "      <td>275.00</td>\n",
       "      <td>3.00</td>\n",
       "      <td>4.00</td>\n",
       "      <td>4.00</td>\n",
       "      <td>1800000.00</td>\n",
       "    </tr>\n",
       "    <tr>\n",
       "      <th>75%</th>\n",
       "      <td>450.00</td>\n",
       "      <td>4.00</td>\n",
       "      <td>5.00</td>\n",
       "      <td>5.00</td>\n",
       "      <td>3500000.00</td>\n",
       "    </tr>\n",
       "    <tr>\n",
       "      <th>max</th>\n",
       "      <td>750000.00</td>\n",
       "      <td>16.00</td>\n",
       "      <td>40.00</td>\n",
       "      <td>50.00</td>\n",
       "      <td>65000000.00</td>\n",
       "    </tr>\n",
       "  </tbody>\n",
       "</table>\n",
       "</div>"
      ],
      "text/plain": [
       "       Metragem  Quartos  Banheiros   Vagas  Valor_anuncio\n",
       "count   9146.00  9146.00    9146.00 9146.00        9146.00\n",
       "mean     434.25     3.45       3.79    3.96     3050596.46\n",
       "std     7860.71     1.05       1.97    2.60     3945437.70\n",
       "min       10.00     1.00       1.00    1.00       13000.00\n",
       "25%      168.00     3.00       2.00    2.00      890000.00\n",
       "50%      275.00     3.00       4.00    4.00     1800000.00\n",
       "75%      450.00     4.00       5.00    5.00     3500000.00\n",
       "max   750000.00    16.00      40.00   50.00    65000000.00"
      ]
     },
     "execution_count": 24,
     "metadata": {},
     "output_type": "execute_result"
    }
   ],
   "source": [
    "pd.set_option('display.float_format', lambda x: '%.2f' %x)\n",
    "dados_vendas.describe()"
   ]
  },
  {
   "cell_type": "code",
   "execution_count": 25,
   "id": "8c546222",
   "metadata": {
    "ExecuteTime": {
     "end_time": "2022-09-09T15:03:51.075674Z",
     "start_time": "2022-09-09T15:03:51.013068Z"
    }
   },
   "outputs": [
    {
     "data": {
      "text/html": [
       "<div>\n",
       "<style scoped>\n",
       "    .dataframe tbody tr th:only-of-type {\n",
       "        vertical-align: middle;\n",
       "    }\n",
       "\n",
       "    .dataframe tbody tr th {\n",
       "        vertical-align: top;\n",
       "    }\n",
       "\n",
       "    .dataframe thead th {\n",
       "        text-align: right;\n",
       "    }\n",
       "</style>\n",
       "<table border=\"1\" class=\"dataframe\">\n",
       "  <thead>\n",
       "    <tr style=\"text-align: right;\">\n",
       "      <th></th>\n",
       "      <th>Bairro</th>\n",
       "      <th>Cidade</th>\n",
       "      <th>Valor</th>\n",
       "      <th>Moeda</th>\n",
       "    </tr>\n",
       "  </thead>\n",
       "  <tbody>\n",
       "    <tr>\n",
       "      <th>count</th>\n",
       "      <td>9146</td>\n",
       "      <td>9146</td>\n",
       "      <td>9146</td>\n",
       "      <td>9146</td>\n",
       "    </tr>\n",
       "    <tr>\n",
       "      <th>unique</th>\n",
       "      <td>697</td>\n",
       "      <td>1</td>\n",
       "      <td>938</td>\n",
       "      <td>1</td>\n",
       "    </tr>\n",
       "    <tr>\n",
       "      <th>top</th>\n",
       "      <td>Alto de Pinheiros</td>\n",
       "      <td>São Paulo</td>\n",
       "      <td>R$ 2.500.000</td>\n",
       "      <td>R$</td>\n",
       "    </tr>\n",
       "    <tr>\n",
       "      <th>freq</th>\n",
       "      <td>369</td>\n",
       "      <td>9146</td>\n",
       "      <td>182</td>\n",
       "      <td>9146</td>\n",
       "    </tr>\n",
       "  </tbody>\n",
       "</table>\n",
       "</div>"
      ],
      "text/plain": [
       "                   Bairro     Cidade         Valor Moeda\n",
       "count                9146       9146          9146  9146\n",
       "unique                697          1           938     1\n",
       "top     Alto de Pinheiros  São Paulo  R$ 2.500.000    R$\n",
       "freq                  369       9146           182  9146"
      ]
     },
     "execution_count": 25,
     "metadata": {},
     "output_type": "execute_result"
    }
   ],
   "source": [
    "dados_vendas.describe(include=[object])"
   ]
  },
  {
   "cell_type": "markdown",
   "id": "60fb91e5",
   "metadata": {},
   "source": [
    "## Análise da quantidade de imóveis por valor de venda"
   ]
  },
  {
   "cell_type": "code",
   "execution_count": 26,
   "id": "2f4688f0",
   "metadata": {
    "ExecuteTime": {
     "end_time": "2022-09-09T15:03:52.158604Z",
     "start_time": "2022-09-09T15:03:51.091798Z"
    }
   },
   "outputs": [
    {
     "data": {
      "image/png": "[encoded data removed]",
      "text/plain": [
       "<Figure size 1000x600 with 1 Axes>"
      ]
     },
     "metadata": {},
     "output_type": "display_data"
    }
   ],
   "source": [
    "plt.figure(figsize=(10,6))\n",
    "fig=sns.histplot(dados_vendas['Valor_anuncio'], kde=True)\n",
    "fig.set_title('Distribuição dos Valores do Imóveis', fontsize=18, weight='bold')\n",
    "fig.set_xlabel('Valor do imovel', fontsize=12)\n",
    "plt.show()"
   ]
  },
  {
   "cell_type": "code",
   "execution_count": 27,
   "id": "5d3583e9",
   "metadata": {
    "ExecuteTime": {
     "end_time": "2022-09-09T15:03:52.408450Z",
     "start_time": "2022-09-09T15:03:52.170347Z"
    }
   },
   "outputs": [
    {
     "name": "stderr",
     "output_type": "stream",
     "text": [
      "/Users/luana/opt/anaconda3/lib/python3.9/site-packages/seaborn/_decorators.py:36: FutureWarning: Pass the following variable as a keyword arg: x. From version 0.12, the only valid positional argument will be `data`, and passing other arguments without an explicit keyword will result in an error or misinterpretation.\n",
      "  warnings.warn(\n"
     ]
    },
    {
     "data": {
      "image/png": "[encoded data removed]",
      "text/plain": [
       "<Figure size 640x480 with 1 Axes>"
      ]
     },
     "metadata": {},
     "output_type": "display_data"
    }
   ],
   "source": [
    "sns.boxplot('Valor_anuncio', data=dados_vendas)\n",
    "plt.title('Boxplot Dependentes X Gastos Mensais')\n",
    "plt.show()"
   ]
  },
  {
   "cell_type": "markdown",
   "id": "ee8b19cb",
   "metadata": {},
   "source": [
    "Verificamos que há uma **maior densidade de imóveis** até o valor de **R$1.000.000,00**. Faremos um outro gráfico para visualizar melhor a distribuição dos imoveis até este valor."
   ]
  },
  {
   "cell_type": "code",
   "execution_count": 28,
   "id": "7814bf6c",
   "metadata": {
    "ExecuteTime": {
     "end_time": "2022-09-09T15:03:53.855315Z",
     "start_time": "2022-09-09T15:03:52.412191Z"
    }
   },
   "outputs": [
    {
     "data": {
      "image/png": "[encoded data removed]",
      "text/plain": [
       "<Figure size 1000x600 with 1 Axes>"
      ]
     },
     "metadata": {},
     "output_type": "display_data"
    }
   ],
   "source": [
    "fig = plt.figure(figsize=(10,6))\n",
    "sns.histplot(dados_vendas['Valor_anuncio'], kde=True)\n",
    "plt.xlim(0, 10000000)\n",
    "fig.suptitle('Distribuição dos Valores do Imóveis até R$1.000.000,00', fontsize=18, weight='bold')\n",
    "plt.show()"
   ]
  },
  {
   "cell_type": "markdown",
   "id": "72bfe8c1",
   "metadata": {
    "heading_collapsed": true
   },
   "source": [
    "## Verificando valor por m2 dos imóveis"
   ]
  },
  {
   "cell_type": "code",
   "execution_count": 29,
   "id": "b9ac231f",
   "metadata": {
    "ExecuteTime": {
     "end_time": "2022-09-09T15:03:53.907063Z",
     "start_time": "2022-09-09T15:03:53.865345Z"
    },
    "hidden": true
   },
   "outputs": [
    {
     "name": "stderr",
     "output_type": "stream",
     "text": [
      "/var/folders/wq/v6b_q61j6zqc33gpbvj9jb000000gn/T/ipykernel_35828/739571977.py:1: SettingWithCopyWarning: \n",
      "A value is trying to be set on a copy of a slice from a DataFrame.\n",
      "Try using .loc[row_indexer,col_indexer] = value instead\n",
      "\n",
      "See the caveats in the documentation: https://pandas.pydata.org/pandas-docs/stable/user_guide/indexing.html#returning-a-view-versus-a-copy\n",
      "  dados_vendas['Valor_m2'] = dados_vendas['Valor_anuncio'] / dados_vendas['Metragem']\n"
     ]
    },
    {
     "data": {
      "text/html": [
       "<div>\n",
       "<style scoped>\n",
       "    .dataframe tbody tr th:only-of-type {\n",
       "        vertical-align: middle;\n",
       "    }\n",
       "\n",
       "    .dataframe tbody tr th {\n",
       "        vertical-align: top;\n",
       "    }\n",
       "\n",
       "    .dataframe thead th {\n",
       "        text-align: right;\n",
       "    }\n",
       "</style>\n",
       "<table border=\"1\" class=\"dataframe\">\n",
       "  <thead>\n",
       "    <tr style=\"text-align: right;\">\n",
       "      <th></th>\n",
       "      <th>Bairro</th>\n",
       "      <th>Cidade</th>\n",
       "      <th>Metragem</th>\n",
       "      <th>Quartos</th>\n",
       "      <th>Banheiros</th>\n",
       "      <th>Vagas</th>\n",
       "      <th>Valor</th>\n",
       "      <th>Moeda</th>\n",
       "      <th>Valor_anuncio</th>\n",
       "      <th>Valor_m2</th>\n",
       "    </tr>\n",
       "  </thead>\n",
       "  <tbody>\n",
       "    <tr>\n",
       "      <th>0</th>\n",
       "      <td>Planalto Paulista</td>\n",
       "      <td>São Paulo</td>\n",
       "      <td>1000</td>\n",
       "      <td>4</td>\n",
       "      <td>8</td>\n",
       "      <td>6</td>\n",
       "      <td>R$ 7.000.000</td>\n",
       "      <td>R$</td>\n",
       "      <td>7000000.00</td>\n",
       "      <td>7000.00</td>\n",
       "    </tr>\n",
       "    <tr>\n",
       "      <th>1</th>\n",
       "      <td>Jardim dos Estados</td>\n",
       "      <td>São Paulo</td>\n",
       "      <td>496</td>\n",
       "      <td>4</td>\n",
       "      <td>4</td>\n",
       "      <td>4</td>\n",
       "      <td>R$ 3.700.000</td>\n",
       "      <td>R$</td>\n",
       "      <td>3700000.00</td>\n",
       "      <td>7459.68</td>\n",
       "    </tr>\n",
       "    <tr>\n",
       "      <th>2</th>\n",
       "      <td>Jardim Reimberg</td>\n",
       "      <td>São Paulo</td>\n",
       "      <td>125</td>\n",
       "      <td>4</td>\n",
       "      <td>3</td>\n",
       "      <td>2</td>\n",
       "      <td>R$ 380.000</td>\n",
       "      <td>R$</td>\n",
       "      <td>380000.00</td>\n",
       "      <td>3040.00</td>\n",
       "    </tr>\n",
       "    <tr>\n",
       "      <th>3</th>\n",
       "      <td>Jardim Morumbi</td>\n",
       "      <td>São Paulo</td>\n",
       "      <td>310</td>\n",
       "      <td>3</td>\n",
       "      <td>2</td>\n",
       "      <td>4</td>\n",
       "      <td>R$ 685.000</td>\n",
       "      <td>R$</td>\n",
       "      <td>685000.00</td>\n",
       "      <td>2209.68</td>\n",
       "    </tr>\n",
       "    <tr>\n",
       "      <th>4</th>\n",
       "      <td>Mooca</td>\n",
       "      <td>São Paulo</td>\n",
       "      <td>100</td>\n",
       "      <td>3</td>\n",
       "      <td>2</td>\n",
       "      <td>2</td>\n",
       "      <td>R$ 540.000</td>\n",
       "      <td>R$</td>\n",
       "      <td>540000.00</td>\n",
       "      <td>5400.00</td>\n",
       "    </tr>\n",
       "    <tr>\n",
       "      <th>...</th>\n",
       "      <td>...</td>\n",
       "      <td>...</td>\n",
       "      <td>...</td>\n",
       "      <td>...</td>\n",
       "      <td>...</td>\n",
       "      <td>...</td>\n",
       "      <td>...</td>\n",
       "      <td>...</td>\n",
       "      <td>...</td>\n",
       "      <td>...</td>\n",
       "    </tr>\n",
       "    <tr>\n",
       "      <th>10002</th>\n",
       "      <td>Planalto Paulista</td>\n",
       "      <td>São Paulo</td>\n",
       "      <td>267</td>\n",
       "      <td>3</td>\n",
       "      <td>6</td>\n",
       "      <td>4</td>\n",
       "      <td>R$ 1.500.000</td>\n",
       "      <td>R$</td>\n",
       "      <td>1500000.00</td>\n",
       "      <td>5617.98</td>\n",
       "    </tr>\n",
       "    <tr>\n",
       "      <th>10003</th>\n",
       "      <td>Vila Sofia</td>\n",
       "      <td>São Paulo</td>\n",
       "      <td>95</td>\n",
       "      <td>2</td>\n",
       "      <td>2</td>\n",
       "      <td>2</td>\n",
       "      <td>R$ 665.000</td>\n",
       "      <td>R$</td>\n",
       "      <td>665000.00</td>\n",
       "      <td>7000.00</td>\n",
       "    </tr>\n",
       "    <tr>\n",
       "      <th>10004</th>\n",
       "      <td>Bosque da Saúde</td>\n",
       "      <td>São Paulo</td>\n",
       "      <td>605</td>\n",
       "      <td>8</td>\n",
       "      <td>7</td>\n",
       "      <td>5</td>\n",
       "      <td>R$ 2.300.000</td>\n",
       "      <td>R$</td>\n",
       "      <td>2300000.00</td>\n",
       "      <td>3801.65</td>\n",
       "    </tr>\n",
       "    <tr>\n",
       "      <th>10005</th>\n",
       "      <td>Vila da Saúde</td>\n",
       "      <td>São Paulo</td>\n",
       "      <td>205</td>\n",
       "      <td>3</td>\n",
       "      <td>3</td>\n",
       "      <td>6</td>\n",
       "      <td>R$ 1.050.000</td>\n",
       "      <td>R$</td>\n",
       "      <td>1050000.00</td>\n",
       "      <td>5121.95</td>\n",
       "    </tr>\n",
       "    <tr>\n",
       "      <th>10007</th>\n",
       "      <td>Vila Alpina</td>\n",
       "      <td>São Paulo</td>\n",
       "      <td>122</td>\n",
       "      <td>3</td>\n",
       "      <td>2</td>\n",
       "      <td>2</td>\n",
       "      <td>R$ 270.000</td>\n",
       "      <td>R$</td>\n",
       "      <td>270000.00</td>\n",
       "      <td>2213.11</td>\n",
       "    </tr>\n",
       "  </tbody>\n",
       "</table>\n",
       "<p>9146 rows × 10 columns</p>\n",
       "</div>"
      ],
      "text/plain": [
       "                   Bairro     Cidade  Metragem  Quartos  Banheiros  Vagas  \\\n",
       "0       Planalto Paulista  São Paulo      1000        4          8      6   \n",
       "1      Jardim dos Estados  São Paulo       496        4          4      4   \n",
       "2         Jardim Reimberg  São Paulo       125        4          3      2   \n",
       "3          Jardim Morumbi  São Paulo       310        3          2      4   \n",
       "4                   Mooca  São Paulo       100        3          2      2   \n",
       "...                   ...        ...       ...      ...        ...    ...   \n",
       "10002   Planalto Paulista  São Paulo       267        3          6      4   \n",
       "10003          Vila Sofia  São Paulo        95        2          2      2   \n",
       "10004     Bosque da Saúde  São Paulo       605        8          7      5   \n",
       "10005       Vila da Saúde  São Paulo       205        3          3      6   \n",
       "10007         Vila Alpina  São Paulo       122        3          2      2   \n",
       "\n",
       "              Valor Moeda  Valor_anuncio  Valor_m2  \n",
       "0      R$ 7.000.000    R$     7000000.00   7000.00  \n",
       "1      R$ 3.700.000    R$     3700000.00   7459.68  \n",
       "2        R$ 380.000    R$      380000.00   3040.00  \n",
       "3        R$ 685.000    R$      685000.00   2209.68  \n",
       "4        R$ 540.000    R$      540000.00   5400.00  \n",
       "...             ...   ...            ...       ...  \n",
       "10002  R$ 1.500.000    R$     1500000.00   5617.98  \n",
       "10003    R$ 665.000    R$      665000.00   7000.00  \n",
       "10004  R$ 2.300.000    R$     2300000.00   3801.65  \n",
       "10005  R$ 1.050.000    R$     1050000.00   5121.95  \n",
       "10007    R$ 270.000    R$      270000.00   2213.11  \n",
       "\n",
       "[9146 rows x 10 columns]"
      ]
     },
     "execution_count": 29,
     "metadata": {},
     "output_type": "execute_result"
    }
   ],
   "source": [
    "dados_vendas['Valor_m2'] = dados_vendas['Valor_anuncio'] / dados_vendas['Metragem']\n",
    "dados_vendas"
   ]
  },
  {
   "cell_type": "code",
   "execution_count": 30,
   "id": "a664c702",
   "metadata": {
    "ExecuteTime": {
     "end_time": "2022-09-09T15:03:53.954888Z",
     "start_time": "2022-09-09T15:03:53.910941Z"
    },
    "hidden": true
   },
   "outputs": [
    {
     "data": {
      "text/html": [
       "<div>\n",
       "<style scoped>\n",
       "    .dataframe tbody tr th:only-of-type {\n",
       "        vertical-align: middle;\n",
       "    }\n",
       "\n",
       "    .dataframe tbody tr th {\n",
       "        vertical-align: top;\n",
       "    }\n",
       "\n",
       "    .dataframe thead th {\n",
       "        text-align: right;\n",
       "    }\n",
       "</style>\n",
       "<table border=\"1\" class=\"dataframe\">\n",
       "  <thead>\n",
       "    <tr style=\"text-align: right;\">\n",
       "      <th></th>\n",
       "      <th>Metragem</th>\n",
       "      <th>Quartos</th>\n",
       "      <th>Banheiros</th>\n",
       "      <th>Vagas</th>\n",
       "      <th>Valor_anuncio</th>\n",
       "      <th>Valor_m2</th>\n",
       "    </tr>\n",
       "    <tr>\n",
       "      <th>Bairro</th>\n",
       "      <th></th>\n",
       "      <th></th>\n",
       "      <th></th>\n",
       "      <th></th>\n",
       "      <th></th>\n",
       "      <th></th>\n",
       "    </tr>\n",
       "  </thead>\n",
       "  <tbody>\n",
       "    <tr>\n",
       "      <th>Aclimação</th>\n",
       "      <td>246.16</td>\n",
       "      <td>3.27</td>\n",
       "      <td>3.04</td>\n",
       "      <td>2.91</td>\n",
       "      <td>1763200.01</td>\n",
       "      <td>7656.17</td>\n",
       "    </tr>\n",
       "    <tr>\n",
       "      <th>Alto da Boa Vista</th>\n",
       "      <td>418.88</td>\n",
       "      <td>4.12</td>\n",
       "      <td>5.12</td>\n",
       "      <td>4.62</td>\n",
       "      <td>2391250.00</td>\n",
       "      <td>5849.57</td>\n",
       "    </tr>\n",
       "    <tr>\n",
       "      <th>Alto da Lapa</th>\n",
       "      <td>299.25</td>\n",
       "      <td>3.15</td>\n",
       "      <td>3.85</td>\n",
       "      <td>4.00</td>\n",
       "      <td>2083168.75</td>\n",
       "      <td>7606.73</td>\n",
       "    </tr>\n",
       "    <tr>\n",
       "      <th>Alto da Mooca</th>\n",
       "      <td>270.05</td>\n",
       "      <td>3.30</td>\n",
       "      <td>2.60</td>\n",
       "      <td>3.65</td>\n",
       "      <td>1184170.00</td>\n",
       "      <td>5691.74</td>\n",
       "    </tr>\n",
       "    <tr>\n",
       "      <th>Alto de Pinheiros</th>\n",
       "      <td>429.85</td>\n",
       "      <td>3.94</td>\n",
       "      <td>4.83</td>\n",
       "      <td>4.95</td>\n",
       "      <td>4782698.96</td>\n",
       "      <td>11269.98</td>\n",
       "    </tr>\n",
       "    <tr>\n",
       "      <th>...</th>\n",
       "      <td>...</td>\n",
       "      <td>...</td>\n",
       "      <td>...</td>\n",
       "      <td>...</td>\n",
       "      <td>...</td>\n",
       "      <td>...</td>\n",
       "    </tr>\n",
       "    <tr>\n",
       "      <th>Vila Água Funda</th>\n",
       "      <td>152.20</td>\n",
       "      <td>2.60</td>\n",
       "      <td>2.20</td>\n",
       "      <td>2.60</td>\n",
       "      <td>652000.00</td>\n",
       "      <td>4467.13</td>\n",
       "    </tr>\n",
       "    <tr>\n",
       "      <th>Água Branca</th>\n",
       "      <td>173.58</td>\n",
       "      <td>3.08</td>\n",
       "      <td>3.25</td>\n",
       "      <td>2.25</td>\n",
       "      <td>1226500.00</td>\n",
       "      <td>7269.11</td>\n",
       "    </tr>\n",
       "    <tr>\n",
       "      <th>Água Fria</th>\n",
       "      <td>165.42</td>\n",
       "      <td>2.83</td>\n",
       "      <td>3.42</td>\n",
       "      <td>2.50</td>\n",
       "      <td>927083.33</td>\n",
       "      <td>5841.10</td>\n",
       "    </tr>\n",
       "    <tr>\n",
       "      <th>Água Funda</th>\n",
       "      <td>139.00</td>\n",
       "      <td>3.00</td>\n",
       "      <td>2.50</td>\n",
       "      <td>2.00</td>\n",
       "      <td>545000.00</td>\n",
       "      <td>3876.86</td>\n",
       "    </tr>\n",
       "    <tr>\n",
       "      <th>Água Rasa</th>\n",
       "      <td>186.17</td>\n",
       "      <td>2.67</td>\n",
       "      <td>2.00</td>\n",
       "      <td>3.67</td>\n",
       "      <td>716166.67</td>\n",
       "      <td>4509.61</td>\n",
       "    </tr>\n",
       "  </tbody>\n",
       "</table>\n",
       "<p>697 rows × 6 columns</p>\n",
       "</div>"
      ],
      "text/plain": [
       "                   Metragem  Quartos  Banheiros  Vagas  Valor_anuncio  \\\n",
       "Bairro                                                                  \n",
       "Aclimação            246.16     3.27       3.04   2.91     1763200.01   \n",
       "Alto da Boa Vista    418.88     4.12       5.12   4.62     2391250.00   \n",
       "Alto da Lapa         299.25     3.15       3.85   4.00     2083168.75   \n",
       "Alto da Mooca        270.05     3.30       2.60   3.65     1184170.00   \n",
       "Alto de Pinheiros    429.85     3.94       4.83   4.95     4782698.96   \n",
       "...                     ...      ...        ...    ...            ...   \n",
       "Vila Água Funda      152.20     2.60       2.20   2.60      652000.00   \n",
       "Água Branca          173.58     3.08       3.25   2.25     1226500.00   \n",
       "Água Fria            165.42     2.83       3.42   2.50      927083.33   \n",
       "Água Funda           139.00     3.00       2.50   2.00      545000.00   \n",
       "Água Rasa            186.17     2.67       2.00   3.67      716166.67   \n",
       "\n",
       "                   Valor_m2  \n",
       "Bairro                       \n",
       "Aclimação           7656.17  \n",
       "Alto da Boa Vista   5849.57  \n",
       "Alto da Lapa        7606.73  \n",
       "Alto da Mooca       5691.74  \n",
       "Alto de Pinheiros  11269.98  \n",
       "...                     ...  \n",
       "Vila Água Funda     4467.13  \n",
       "Água Branca         7269.11  \n",
       "Água Fria           5841.10  \n",
       "Água Funda          3876.86  \n",
       "Água Rasa           4509.61  \n",
       "\n",
       "[697 rows x 6 columns]"
      ]
     },
     "execution_count": 30,
     "metadata": {},
     "output_type": "execute_result"
    }
   ],
   "source": [
    "dados_vendas.groupby('Bairro').mean()"
   ]
  },
  {
   "cell_type": "code",
   "execution_count": 31,
   "id": "1912da0a",
   "metadata": {
    "ExecuteTime": {
     "end_time": "2022-09-09T15:03:54.012035Z",
     "start_time": "2022-09-09T15:03:53.983049Z"
    },
    "hidden": true
   },
   "outputs": [
    {
     "data": {
      "text/html": [
       "<div>\n",
       "<style scoped>\n",
       "    .dataframe tbody tr th:only-of-type {\n",
       "        vertical-align: middle;\n",
       "    }\n",
       "\n",
       "    .dataframe tbody tr th {\n",
       "        vertical-align: top;\n",
       "    }\n",
       "\n",
       "    .dataframe thead th {\n",
       "        text-align: right;\n",
       "    }\n",
       "</style>\n",
       "<table border=\"1\" class=\"dataframe\">\n",
       "  <thead>\n",
       "    <tr style=\"text-align: right;\">\n",
       "      <th></th>\n",
       "      <th>Metragem</th>\n",
       "      <th>Quartos</th>\n",
       "      <th>Banheiros</th>\n",
       "      <th>Vagas</th>\n",
       "      <th>Valor_anuncio</th>\n",
       "      <th>Valor_m2</th>\n",
       "    </tr>\n",
       "    <tr>\n",
       "      <th>Bairro</th>\n",
       "      <th></th>\n",
       "      <th></th>\n",
       "      <th></th>\n",
       "      <th></th>\n",
       "      <th></th>\n",
       "      <th></th>\n",
       "    </tr>\n",
       "  </thead>\n",
       "  <tbody>\n",
       "    <tr>\n",
       "      <th>Aclimação</th>\n",
       "      <td>19447</td>\n",
       "      <td>258</td>\n",
       "      <td>240</td>\n",
       "      <td>230</td>\n",
       "      <td>139292801.00</td>\n",
       "      <td>604837.39</td>\n",
       "    </tr>\n",
       "    <tr>\n",
       "      <th>Alto da Boa Vista</th>\n",
       "      <td>3351</td>\n",
       "      <td>33</td>\n",
       "      <td>41</td>\n",
       "      <td>37</td>\n",
       "      <td>19130000.00</td>\n",
       "      <td>46796.55</td>\n",
       "    </tr>\n",
       "    <tr>\n",
       "      <th>Alto da Lapa</th>\n",
       "      <td>23940</td>\n",
       "      <td>252</td>\n",
       "      <td>308</td>\n",
       "      <td>320</td>\n",
       "      <td>166653500.00</td>\n",
       "      <td>608538.25</td>\n",
       "    </tr>\n",
       "    <tr>\n",
       "      <th>Alto da Mooca</th>\n",
       "      <td>5401</td>\n",
       "      <td>66</td>\n",
       "      <td>52</td>\n",
       "      <td>73</td>\n",
       "      <td>23683400.00</td>\n",
       "      <td>113834.80</td>\n",
       "    </tr>\n",
       "    <tr>\n",
       "      <th>Alto de Pinheiros</th>\n",
       "      <td>158616</td>\n",
       "      <td>1453</td>\n",
       "      <td>1782</td>\n",
       "      <td>1827</td>\n",
       "      <td>1764815915.00</td>\n",
       "      <td>4158622.61</td>\n",
       "    </tr>\n",
       "    <tr>\n",
       "      <th>...</th>\n",
       "      <td>...</td>\n",
       "      <td>...</td>\n",
       "      <td>...</td>\n",
       "      <td>...</td>\n",
       "      <td>...</td>\n",
       "      <td>...</td>\n",
       "    </tr>\n",
       "    <tr>\n",
       "      <th>Vila Água Funda</th>\n",
       "      <td>761</td>\n",
       "      <td>13</td>\n",
       "      <td>11</td>\n",
       "      <td>13</td>\n",
       "      <td>3260000.00</td>\n",
       "      <td>22335.64</td>\n",
       "    </tr>\n",
       "    <tr>\n",
       "      <th>Água Branca</th>\n",
       "      <td>2083</td>\n",
       "      <td>37</td>\n",
       "      <td>39</td>\n",
       "      <td>27</td>\n",
       "      <td>14718000.00</td>\n",
       "      <td>87229.37</td>\n",
       "    </tr>\n",
       "    <tr>\n",
       "      <th>Água Fria</th>\n",
       "      <td>1985</td>\n",
       "      <td>34</td>\n",
       "      <td>41</td>\n",
       "      <td>30</td>\n",
       "      <td>11125000.00</td>\n",
       "      <td>70093.25</td>\n",
       "    </tr>\n",
       "    <tr>\n",
       "      <th>Água Funda</th>\n",
       "      <td>278</td>\n",
       "      <td>6</td>\n",
       "      <td>5</td>\n",
       "      <td>4</td>\n",
       "      <td>1090000.00</td>\n",
       "      <td>7753.73</td>\n",
       "    </tr>\n",
       "    <tr>\n",
       "      <th>Água Rasa</th>\n",
       "      <td>1117</td>\n",
       "      <td>16</td>\n",
       "      <td>12</td>\n",
       "      <td>22</td>\n",
       "      <td>4297000.00</td>\n",
       "      <td>27057.65</td>\n",
       "    </tr>\n",
       "  </tbody>\n",
       "</table>\n",
       "<p>697 rows × 6 columns</p>\n",
       "</div>"
      ],
      "text/plain": [
       "                   Metragem  Quartos  Banheiros  Vagas  Valor_anuncio  \\\n",
       "Bairro                                                                  \n",
       "Aclimação             19447      258        240    230   139292801.00   \n",
       "Alto da Boa Vista      3351       33         41     37    19130000.00   \n",
       "Alto da Lapa          23940      252        308    320   166653500.00   \n",
       "Alto da Mooca          5401       66         52     73    23683400.00   \n",
       "Alto de Pinheiros    158616     1453       1782   1827  1764815915.00   \n",
       "...                     ...      ...        ...    ...            ...   \n",
       "Vila Água Funda         761       13         11     13     3260000.00   \n",
       "Água Branca            2083       37         39     27    14718000.00   \n",
       "Água Fria              1985       34         41     30    11125000.00   \n",
       "Água Funda              278        6          5      4     1090000.00   \n",
       "Água Rasa              1117       16         12     22     4297000.00   \n",
       "\n",
       "                    Valor_m2  \n",
       "Bairro                        \n",
       "Aclimação          604837.39  \n",
       "Alto da Boa Vista   46796.55  \n",
       "Alto da Lapa       608538.25  \n",
       "Alto da Mooca      113834.80  \n",
       "Alto de Pinheiros 4158622.61  \n",
       "...                      ...  \n",
       "Vila Água Funda     22335.64  \n",
       "Água Branca         87229.37  \n",
       "Água Fria           70093.25  \n",
       "Água Funda           7753.73  \n",
       "Água Rasa           27057.65  \n",
       "\n",
       "[697 rows x 6 columns]"
      ]
     },
     "execution_count": 31,
     "metadata": {},
     "output_type": "execute_result"
    }
   ],
   "source": [
    "dados_bairro = dados_vendas.groupby('Bairro').sum()\n",
    "dados_bairro"
   ]
  },
  {
   "cell_type": "code",
   "execution_count": 32,
   "id": "90c856dc",
   "metadata": {
    "ExecuteTime": {
     "end_time": "2022-09-09T15:03:54.049966Z",
     "start_time": "2022-09-09T15:03:54.024565Z"
    },
    "hidden": true
   },
   "outputs": [
    {
     "data": {
      "text/html": [
       "<div>\n",
       "<style scoped>\n",
       "    .dataframe tbody tr th:only-of-type {\n",
       "        vertical-align: middle;\n",
       "    }\n",
       "\n",
       "    .dataframe tbody tr th {\n",
       "        vertical-align: top;\n",
       "    }\n",
       "\n",
       "    .dataframe thead th {\n",
       "        text-align: right;\n",
       "    }\n",
       "</style>\n",
       "<table border=\"1\" class=\"dataframe\">\n",
       "  <thead>\n",
       "    <tr style=\"text-align: right;\">\n",
       "      <th></th>\n",
       "      <th>Metragem</th>\n",
       "      <th>Quartos</th>\n",
       "      <th>Banheiros</th>\n",
       "      <th>Vagas</th>\n",
       "      <th>Valor_anuncio</th>\n",
       "      <th>Valor_m2</th>\n",
       "      <th>Valor_m2_bairro</th>\n",
       "    </tr>\n",
       "    <tr>\n",
       "      <th>Bairro</th>\n",
       "      <th></th>\n",
       "      <th></th>\n",
       "      <th></th>\n",
       "      <th></th>\n",
       "      <th></th>\n",
       "      <th></th>\n",
       "      <th></th>\n",
       "    </tr>\n",
       "  </thead>\n",
       "  <tbody>\n",
       "    <tr>\n",
       "      <th>Aclimação</th>\n",
       "      <td>19447</td>\n",
       "      <td>258</td>\n",
       "      <td>240</td>\n",
       "      <td>230</td>\n",
       "      <td>139292801.00</td>\n",
       "      <td>604837.39</td>\n",
       "      <td>7162.69</td>\n",
       "    </tr>\n",
       "    <tr>\n",
       "      <th>Alto da Boa Vista</th>\n",
       "      <td>3351</td>\n",
       "      <td>33</td>\n",
       "      <td>41</td>\n",
       "      <td>37</td>\n",
       "      <td>19130000.00</td>\n",
       "      <td>46796.55</td>\n",
       "      <td>5708.74</td>\n",
       "    </tr>\n",
       "    <tr>\n",
       "      <th>Alto da Lapa</th>\n",
       "      <td>23940</td>\n",
       "      <td>252</td>\n",
       "      <td>308</td>\n",
       "      <td>320</td>\n",
       "      <td>166653500.00</td>\n",
       "      <td>608538.25</td>\n",
       "      <td>6961.30</td>\n",
       "    </tr>\n",
       "    <tr>\n",
       "      <th>Alto da Mooca</th>\n",
       "      <td>5401</td>\n",
       "      <td>66</td>\n",
       "      <td>52</td>\n",
       "      <td>73</td>\n",
       "      <td>23683400.00</td>\n",
       "      <td>113834.80</td>\n",
       "      <td>4385.00</td>\n",
       "    </tr>\n",
       "    <tr>\n",
       "      <th>Alto de Pinheiros</th>\n",
       "      <td>158616</td>\n",
       "      <td>1453</td>\n",
       "      <td>1782</td>\n",
       "      <td>1827</td>\n",
       "      <td>1764815915.00</td>\n",
       "      <td>4158622.61</td>\n",
       "      <td>11126.34</td>\n",
       "    </tr>\n",
       "    <tr>\n",
       "      <th>...</th>\n",
       "      <td>...</td>\n",
       "      <td>...</td>\n",
       "      <td>...</td>\n",
       "      <td>...</td>\n",
       "      <td>...</td>\n",
       "      <td>...</td>\n",
       "      <td>...</td>\n",
       "    </tr>\n",
       "    <tr>\n",
       "      <th>Vila Água Funda</th>\n",
       "      <td>761</td>\n",
       "      <td>13</td>\n",
       "      <td>11</td>\n",
       "      <td>13</td>\n",
       "      <td>3260000.00</td>\n",
       "      <td>22335.64</td>\n",
       "      <td>4283.84</td>\n",
       "    </tr>\n",
       "    <tr>\n",
       "      <th>Água Branca</th>\n",
       "      <td>2083</td>\n",
       "      <td>37</td>\n",
       "      <td>39</td>\n",
       "      <td>27</td>\n",
       "      <td>14718000.00</td>\n",
       "      <td>87229.37</td>\n",
       "      <td>7065.77</td>\n",
       "    </tr>\n",
       "    <tr>\n",
       "      <th>Água Fria</th>\n",
       "      <td>1985</td>\n",
       "      <td>34</td>\n",
       "      <td>41</td>\n",
       "      <td>30</td>\n",
       "      <td>11125000.00</td>\n",
       "      <td>70093.25</td>\n",
       "      <td>5604.53</td>\n",
       "    </tr>\n",
       "    <tr>\n",
       "      <th>Água Funda</th>\n",
       "      <td>278</td>\n",
       "      <td>6</td>\n",
       "      <td>5</td>\n",
       "      <td>4</td>\n",
       "      <td>1090000.00</td>\n",
       "      <td>7753.73</td>\n",
       "      <td>3920.86</td>\n",
       "    </tr>\n",
       "    <tr>\n",
       "      <th>Água Rasa</th>\n",
       "      <td>1117</td>\n",
       "      <td>16</td>\n",
       "      <td>12</td>\n",
       "      <td>22</td>\n",
       "      <td>4297000.00</td>\n",
       "      <td>27057.65</td>\n",
       "      <td>3846.91</td>\n",
       "    </tr>\n",
       "  </tbody>\n",
       "</table>\n",
       "<p>697 rows × 7 columns</p>\n",
       "</div>"
      ],
      "text/plain": [
       "                   Metragem  Quartos  Banheiros  Vagas  Valor_anuncio  \\\n",
       "Bairro                                                                  \n",
       "Aclimação             19447      258        240    230   139292801.00   \n",
       "Alto da Boa Vista      3351       33         41     37    19130000.00   \n",
       "Alto da Lapa          23940      252        308    320   166653500.00   \n",
       "Alto da Mooca          5401       66         52     73    23683400.00   \n",
       "Alto de Pinheiros    158616     1453       1782   1827  1764815915.00   \n",
       "...                     ...      ...        ...    ...            ...   \n",
       "Vila Água Funda         761       13         11     13     3260000.00   \n",
       "Água Branca            2083       37         39     27    14718000.00   \n",
       "Água Fria              1985       34         41     30    11125000.00   \n",
       "Água Funda              278        6          5      4     1090000.00   \n",
       "Água Rasa              1117       16         12     22     4297000.00   \n",
       "\n",
       "                    Valor_m2  Valor_m2_bairro  \n",
       "Bairro                                         \n",
       "Aclimação          604837.39          7162.69  \n",
       "Alto da Boa Vista   46796.55          5708.74  \n",
       "Alto da Lapa       608538.25          6961.30  \n",
       "Alto da Mooca      113834.80          4385.00  \n",
       "Alto de Pinheiros 4158622.61         11126.34  \n",
       "...                      ...              ...  \n",
       "Vila Água Funda     22335.64          4283.84  \n",
       "Água Branca         87229.37          7065.77  \n",
       "Água Fria           70093.25          5604.53  \n",
       "Água Funda           7753.73          3920.86  \n",
       "Água Rasa           27057.65          3846.91  \n",
       "\n",
       "[697 rows x 7 columns]"
      ]
     },
     "execution_count": 32,
     "metadata": {},
     "output_type": "execute_result"
    }
   ],
   "source": [
    "dados_bairro['Valor_m2_bairro'] = dados_bairro['Valor_anuncio'] / dados_bairro['Metragem']\n",
    "dados_bairro"
   ]
  },
  {
   "cell_type": "code",
   "execution_count": 33,
   "id": "c2fbcac2",
   "metadata": {
    "ExecuteTime": {
     "end_time": "2022-09-09T15:03:54.078460Z",
     "start_time": "2022-09-09T15:03:54.057472Z"
    },
    "hidden": true
   },
   "outputs": [
    {
     "data": {
      "text/plain": [
       "Metragem            231.24\n",
       "Quartos               3.39\n",
       "Banheiros             3.24\n",
       "Vagas                 2.95\n",
       "Valor_anuncio   1771159.76\n",
       "Valor_m2           7913.15\n",
       "Name: Vila Mariana, dtype: float64"
      ]
     },
     "execution_count": 33,
     "metadata": {},
     "output_type": "execute_result"
    }
   ],
   "source": [
    "dados_vendas.groupby(\"Bairro\").mean().loc[\"Vila Mariana\"]"
   ]
  },
  {
   "cell_type": "code",
   "execution_count": 34,
   "id": "3f9e99fb",
   "metadata": {
    "ExecuteTime": {
     "end_time": "2022-09-09T15:03:54.126762Z",
     "start_time": "2022-09-09T15:03:54.101077Z"
    },
    "hidden": true
   },
   "outputs": [
    {
     "data": {
      "text/plain": [
       "Metragem              39079.00\n",
       "Quartos                 573.00\n",
       "Banheiros               547.00\n",
       "Vagas                   499.00\n",
       "Valor_anuncio     299326000.00\n",
       "Valor_m2            1337323.16\n",
       "Valor_m2_bairro        7659.51\n",
       "Name: Vila Mariana, dtype: float64"
      ]
     },
     "execution_count": 34,
     "metadata": {},
     "output_type": "execute_result"
    }
   ],
   "source": [
    "dados_bairro.loc[\"Vila Mariana\"]"
   ]
  },
  {
   "cell_type": "markdown",
   "id": "bd6cf8c3",
   "metadata": {
    "hidden": true
   },
   "source": [
    "Foram realizadas duas formas de calcular o valor por m2 dos imóveis.\n",
    "\n",
    "A primeira, dividindo o valor de cada imóvel pela sua área. E a segunda, somando a o valor de todos os imóveis e dividindo pela soma da área. \n",
    "\n",
    "Podemos verificar, por este exemplo acima, que o valor médio por m2 do Bairro Vila Mariana, utilizando a primeira forma, é de 7.913/m2 e, utilizando a segunda, R$7.659/m2. Importante discutir estes conceitos com a área responsável."
   ]
  },
  {
   "cell_type": "markdown",
   "id": "b076b63d",
   "metadata": {},
   "source": [
    "## Verificando os bairros com maior quantidade de imóveis disponíveis para venda"
   ]
  },
  {
   "cell_type": "code",
   "execution_count": 35,
   "id": "527d011c",
   "metadata": {
    "ExecuteTime": {
     "end_time": "2022-09-09T15:03:54.161806Z",
     "start_time": "2022-09-09T15:03:54.139759Z"
    }
   },
   "outputs": [
    {
     "data": {
      "text/plain": [
       "Alto de Pinheiros    369\n",
       "Jardim Guedala       353\n",
       "Jardim Paulista      266\n",
       "Brooklin Paulista    224\n",
       "Jardim Europa        210\n",
       "Pacaembu             200\n",
       "Vila Madalena        198\n",
       "Cidade Jardim        191\n",
       "Planalto Paulista    184\n",
       "Jardim Leonor        170\n",
       "Name: Bairro, dtype: int64"
      ]
     },
     "execution_count": 35,
     "metadata": {},
     "output_type": "execute_result"
    }
   ],
   "source": [
    "top_bairros = dados_vendas[\"Bairro\"].value_counts()[:10]\n",
    "top_bairros"
   ]
  },
  {
   "cell_type": "code",
   "execution_count": 36,
   "id": "288819ad",
   "metadata": {
    "ExecuteTime": {
     "end_time": "2022-09-09T15:03:54.524282Z",
     "start_time": "2022-09-09T15:03:54.178886Z"
    }
   },
   "outputs": [
    {
     "data": {
      "text/plain": [
       "<AxesSubplot:>"
      ]
     },
     "execution_count": 36,
     "metadata": {},
     "output_type": "execute_result"
    },
    {
     "data": {
      "image/png": "[encoded data removed]",
      "text/plain": [
       "<Figure size 640x480 with 1 Axes>"
      ]
     },
     "metadata": {},
     "output_type": "display_data"
    }
   ],
   "source": [
    "top_bairros.plot.bar()"
   ]
  },
  {
   "cell_type": "markdown",
   "id": "1b55f10e",
   "metadata": {},
   "source": [
    "Os bairros com **maior quantidade de imóveis** à venda são: Alto de Pinheiros, Jardim Guedala e Jardim Paulista."
   ]
  },
  {
   "cell_type": "code",
   "execution_count": 37,
   "id": "051dbdb3",
   "metadata": {
    "ExecuteTime": {
     "end_time": "2022-09-09T15:03:54.572283Z",
     "start_time": "2022-09-09T15:03:54.536385Z"
    }
   },
   "outputs": [
    {
     "data": {
      "text/plain": [
       "Index(['Alto de Pinheiros', 'Jardim Guedala', 'Jardim Paulista',\n",
       "       'Brooklin Paulista', 'Jardim Europa', 'Pacaembu', 'Vila Madalena',\n",
       "       'Cidade Jardim', 'Planalto Paulista', 'Jardim Leonor'],\n",
       "      dtype='object')"
      ]
     },
     "execution_count": 37,
     "metadata": {},
     "output_type": "execute_result"
    }
   ],
   "source": [
    "top_bairros = dados_vendas[\"Bairro\"].value_counts()[:10].index\n",
    "top_bairros"
   ]
  },
  {
   "cell_type": "code",
   "execution_count": 38,
   "id": "7bbff352",
   "metadata": {
    "ExecuteTime": {
     "end_time": "2022-09-09T15:03:54.620700Z",
     "start_time": "2022-09-09T15:03:54.577984Z"
    }
   },
   "outputs": [
    {
     "data": {
      "text/html": [
       "<div>\n",
       "<style scoped>\n",
       "    .dataframe tbody tr th:only-of-type {\n",
       "        vertical-align: middle;\n",
       "    }\n",
       "\n",
       "    .dataframe tbody tr th {\n",
       "        vertical-align: top;\n",
       "    }\n",
       "\n",
       "    .dataframe thead th {\n",
       "        text-align: right;\n",
       "    }\n",
       "</style>\n",
       "<table border=\"1\" class=\"dataframe\">\n",
       "  <thead>\n",
       "    <tr style=\"text-align: right;\">\n",
       "      <th></th>\n",
       "      <th>Bairro</th>\n",
       "      <th>Metragem</th>\n",
       "      <th>Quartos</th>\n",
       "      <th>Banheiros</th>\n",
       "      <th>Vagas</th>\n",
       "      <th>Valor_anuncio</th>\n",
       "      <th>Valor_m2</th>\n",
       "      <th>Valor_m2_bairro</th>\n",
       "    </tr>\n",
       "  </thead>\n",
       "  <tbody>\n",
       "    <tr>\n",
       "      <th>0</th>\n",
       "      <td>Aclimação</td>\n",
       "      <td>19447</td>\n",
       "      <td>258</td>\n",
       "      <td>240</td>\n",
       "      <td>230</td>\n",
       "      <td>139292801.00</td>\n",
       "      <td>604837.39</td>\n",
       "      <td>7162.69</td>\n",
       "    </tr>\n",
       "    <tr>\n",
       "      <th>1</th>\n",
       "      <td>Alto da Boa Vista</td>\n",
       "      <td>3351</td>\n",
       "      <td>33</td>\n",
       "      <td>41</td>\n",
       "      <td>37</td>\n",
       "      <td>19130000.00</td>\n",
       "      <td>46796.55</td>\n",
       "      <td>5708.74</td>\n",
       "    </tr>\n",
       "    <tr>\n",
       "      <th>2</th>\n",
       "      <td>Alto da Lapa</td>\n",
       "      <td>23940</td>\n",
       "      <td>252</td>\n",
       "      <td>308</td>\n",
       "      <td>320</td>\n",
       "      <td>166653500.00</td>\n",
       "      <td>608538.25</td>\n",
       "      <td>6961.30</td>\n",
       "    </tr>\n",
       "    <tr>\n",
       "      <th>3</th>\n",
       "      <td>Alto da Mooca</td>\n",
       "      <td>5401</td>\n",
       "      <td>66</td>\n",
       "      <td>52</td>\n",
       "      <td>73</td>\n",
       "      <td>23683400.00</td>\n",
       "      <td>113834.80</td>\n",
       "      <td>4385.00</td>\n",
       "    </tr>\n",
       "    <tr>\n",
       "      <th>4</th>\n",
       "      <td>Alto de Pinheiros</td>\n",
       "      <td>158616</td>\n",
       "      <td>1453</td>\n",
       "      <td>1782</td>\n",
       "      <td>1827</td>\n",
       "      <td>1764815915.00</td>\n",
       "      <td>4158622.61</td>\n",
       "      <td>11126.34</td>\n",
       "    </tr>\n",
       "    <tr>\n",
       "      <th>...</th>\n",
       "      <td>...</td>\n",
       "      <td>...</td>\n",
       "      <td>...</td>\n",
       "      <td>...</td>\n",
       "      <td>...</td>\n",
       "      <td>...</td>\n",
       "      <td>...</td>\n",
       "      <td>...</td>\n",
       "    </tr>\n",
       "    <tr>\n",
       "      <th>692</th>\n",
       "      <td>Vila Água Funda</td>\n",
       "      <td>761</td>\n",
       "      <td>13</td>\n",
       "      <td>11</td>\n",
       "      <td>13</td>\n",
       "      <td>3260000.00</td>\n",
       "      <td>22335.64</td>\n",
       "      <td>4283.84</td>\n",
       "    </tr>\n",
       "    <tr>\n",
       "      <th>693</th>\n",
       "      <td>Água Branca</td>\n",
       "      <td>2083</td>\n",
       "      <td>37</td>\n",
       "      <td>39</td>\n",
       "      <td>27</td>\n",
       "      <td>14718000.00</td>\n",
       "      <td>87229.37</td>\n",
       "      <td>7065.77</td>\n",
       "    </tr>\n",
       "    <tr>\n",
       "      <th>694</th>\n",
       "      <td>Água Fria</td>\n",
       "      <td>1985</td>\n",
       "      <td>34</td>\n",
       "      <td>41</td>\n",
       "      <td>30</td>\n",
       "      <td>11125000.00</td>\n",
       "      <td>70093.25</td>\n",
       "      <td>5604.53</td>\n",
       "    </tr>\n",
       "    <tr>\n",
       "      <th>695</th>\n",
       "      <td>Água Funda</td>\n",
       "      <td>278</td>\n",
       "      <td>6</td>\n",
       "      <td>5</td>\n",
       "      <td>4</td>\n",
       "      <td>1090000.00</td>\n",
       "      <td>7753.73</td>\n",
       "      <td>3920.86</td>\n",
       "    </tr>\n",
       "    <tr>\n",
       "      <th>696</th>\n",
       "      <td>Água Rasa</td>\n",
       "      <td>1117</td>\n",
       "      <td>16</td>\n",
       "      <td>12</td>\n",
       "      <td>22</td>\n",
       "      <td>4297000.00</td>\n",
       "      <td>27057.65</td>\n",
       "      <td>3846.91</td>\n",
       "    </tr>\n",
       "  </tbody>\n",
       "</table>\n",
       "<p>697 rows × 8 columns</p>\n",
       "</div>"
      ],
      "text/plain": [
       "                Bairro  Metragem  Quartos  Banheiros  Vagas  Valor_anuncio  \\\n",
       "0            Aclimação     19447      258        240    230   139292801.00   \n",
       "1    Alto da Boa Vista      3351       33         41     37    19130000.00   \n",
       "2         Alto da Lapa     23940      252        308    320   166653500.00   \n",
       "3        Alto da Mooca      5401       66         52     73    23683400.00   \n",
       "4    Alto de Pinheiros    158616     1453       1782   1827  1764815915.00   \n",
       "..                 ...       ...      ...        ...    ...            ...   \n",
       "692    Vila Água Funda       761       13         11     13     3260000.00   \n",
       "693        Água Branca      2083       37         39     27    14718000.00   \n",
       "694          Água Fria      1985       34         41     30    11125000.00   \n",
       "695         Água Funda       278        6          5      4     1090000.00   \n",
       "696          Água Rasa      1117       16         12     22     4297000.00   \n",
       "\n",
       "      Valor_m2  Valor_m2_bairro  \n",
       "0    604837.39          7162.69  \n",
       "1     46796.55          5708.74  \n",
       "2    608538.25          6961.30  \n",
       "3    113834.80          4385.00  \n",
       "4   4158622.61         11126.34  \n",
       "..         ...              ...  \n",
       "692   22335.64          4283.84  \n",
       "693   87229.37          7065.77  \n",
       "694   70093.25          5604.53  \n",
       "695    7753.73          3920.86  \n",
       "696   27057.65          3846.91  \n",
       "\n",
       "[697 rows x 8 columns]"
      ]
     },
     "execution_count": 38,
     "metadata": {},
     "output_type": "execute_result"
    }
   ],
   "source": [
    "dados_bairro.reset_index(inplace = True)\n",
    "dados_bairro"
   ]
  },
  {
   "cell_type": "code",
   "execution_count": 39,
   "id": "8bfff51b",
   "metadata": {
    "ExecuteTime": {
     "end_time": "2022-09-09T15:03:54.667022Z",
     "start_time": "2022-09-09T15:03:54.636026Z"
    }
   },
   "outputs": [
    {
     "data": {
      "text/html": [
       "<div>\n",
       "<style scoped>\n",
       "    .dataframe tbody tr th:only-of-type {\n",
       "        vertical-align: middle;\n",
       "    }\n",
       "\n",
       "    .dataframe tbody tr th {\n",
       "        vertical-align: top;\n",
       "    }\n",
       "\n",
       "    .dataframe thead th {\n",
       "        text-align: right;\n",
       "    }\n",
       "</style>\n",
       "<table border=\"1\" class=\"dataframe\">\n",
       "  <thead>\n",
       "    <tr style=\"text-align: right;\">\n",
       "      <th></th>\n",
       "      <th>Bairro</th>\n",
       "      <th>Metragem</th>\n",
       "      <th>Quartos</th>\n",
       "      <th>Banheiros</th>\n",
       "      <th>Vagas</th>\n",
       "      <th>Valor_anuncio</th>\n",
       "      <th>Valor_m2</th>\n",
       "      <th>Valor_m2_bairro</th>\n",
       "    </tr>\n",
       "  </thead>\n",
       "  <tbody>\n",
       "    <tr>\n",
       "      <th>4</th>\n",
       "      <td>Alto de Pinheiros</td>\n",
       "      <td>158616</td>\n",
       "      <td>1453</td>\n",
       "      <td>1782</td>\n",
       "      <td>1827</td>\n",
       "      <td>1764815915.00</td>\n",
       "      <td>4158622.61</td>\n",
       "      <td>11126.34</td>\n",
       "    </tr>\n",
       "    <tr>\n",
       "      <th>19</th>\n",
       "      <td>Brooklin Paulista</td>\n",
       "      <td>70002</td>\n",
       "      <td>778</td>\n",
       "      <td>862</td>\n",
       "      <td>832</td>\n",
       "      <td>475796789.00</td>\n",
       "      <td>1627341.87</td>\n",
       "      <td>6796.90</td>\n",
       "    </tr>\n",
       "    <tr>\n",
       "      <th>57</th>\n",
       "      <td>Cidade Jardim</td>\n",
       "      <td>132220</td>\n",
       "      <td>789</td>\n",
       "      <td>1008</td>\n",
       "      <td>1172</td>\n",
       "      <td>1164210900.00</td>\n",
       "      <td>1635692.98</td>\n",
       "      <td>8805.10</td>\n",
       "    </tr>\n",
       "    <tr>\n",
       "      <th>155</th>\n",
       "      <td>Jardim Europa</td>\n",
       "      <td>118898</td>\n",
       "      <td>795</td>\n",
       "      <td>993</td>\n",
       "      <td>1056</td>\n",
       "      <td>2414172900.00</td>\n",
       "      <td>4192164.45</td>\n",
       "      <td>20304.57</td>\n",
       "    </tr>\n",
       "    <tr>\n",
       "      <th>168</th>\n",
       "      <td>Jardim Guedala</td>\n",
       "      <td>972212</td>\n",
       "      <td>1443</td>\n",
       "      <td>2027</td>\n",
       "      <td>2161</td>\n",
       "      <td>1801165587.00</td>\n",
       "      <td>2833882.79</td>\n",
       "      <td>1852.65</td>\n",
       "    </tr>\n",
       "    <tr>\n",
       "      <th>187</th>\n",
       "      <td>Jardim Leonor</td>\n",
       "      <td>97141</td>\n",
       "      <td>697</td>\n",
       "      <td>941</td>\n",
       "      <td>902</td>\n",
       "      <td>646326369.00</td>\n",
       "      <td>1115858.80</td>\n",
       "      <td>6653.49</td>\n",
       "    </tr>\n",
       "    <tr>\n",
       "      <th>227</th>\n",
       "      <td>Jardim Paulista</td>\n",
       "      <td>130283</td>\n",
       "      <td>1028</td>\n",
       "      <td>1231</td>\n",
       "      <td>1171</td>\n",
       "      <td>2136081000.00</td>\n",
       "      <td>4279262.19</td>\n",
       "      <td>16395.70</td>\n",
       "    </tr>\n",
       "    <tr>\n",
       "      <th>338</th>\n",
       "      <td>Pacaembu</td>\n",
       "      <td>100285</td>\n",
       "      <td>774</td>\n",
       "      <td>889</td>\n",
       "      <td>1028</td>\n",
       "      <td>867956500.00</td>\n",
       "      <td>1753672.28</td>\n",
       "      <td>8654.90</td>\n",
       "    </tr>\n",
       "    <tr>\n",
       "      <th>396</th>\n",
       "      <td>Planalto Paulista</td>\n",
       "      <td>59250</td>\n",
       "      <td>636</td>\n",
       "      <td>768</td>\n",
       "      <td>713</td>\n",
       "      <td>374907000.00</td>\n",
       "      <td>1186380.95</td>\n",
       "      <td>6327.54</td>\n",
       "    </tr>\n",
       "    <tr>\n",
       "      <th>564</th>\n",
       "      <td>Vila Madalena</td>\n",
       "      <td>66250</td>\n",
       "      <td>739</td>\n",
       "      <td>786</td>\n",
       "      <td>712</td>\n",
       "      <td>583253030.00</td>\n",
       "      <td>1792770.40</td>\n",
       "      <td>8803.82</td>\n",
       "    </tr>\n",
       "  </tbody>\n",
       "</table>\n",
       "</div>"
      ],
      "text/plain": [
       "                Bairro  Metragem  Quartos  Banheiros  Vagas  Valor_anuncio  \\\n",
       "4    Alto de Pinheiros    158616     1453       1782   1827  1764815915.00   \n",
       "19   Brooklin Paulista     70002      778        862    832   475796789.00   \n",
       "57       Cidade Jardim    132220      789       1008   1172  1164210900.00   \n",
       "155      Jardim Europa    118898      795        993   1056  2414172900.00   \n",
       "168     Jardim Guedala    972212     1443       2027   2161  1801165587.00   \n",
       "187      Jardim Leonor     97141      697        941    902   646326369.00   \n",
       "227    Jardim Paulista    130283     1028       1231   1171  2136081000.00   \n",
       "338           Pacaembu    100285      774        889   1028   867956500.00   \n",
       "396  Planalto Paulista     59250      636        768    713   374907000.00   \n",
       "564      Vila Madalena     66250      739        786    712   583253030.00   \n",
       "\n",
       "      Valor_m2  Valor_m2_bairro  \n",
       "4   4158622.61         11126.34  \n",
       "19  1627341.87          6796.90  \n",
       "57  1635692.98          8805.10  \n",
       "155 4192164.45         20304.57  \n",
       "168 2833882.79          1852.65  \n",
       "187 1115858.80          6653.49  \n",
       "227 4279262.19         16395.70  \n",
       "338 1753672.28          8654.90  \n",
       "396 1186380.95          6327.54  \n",
       "564 1792770.40          8803.82  "
      ]
     },
     "execution_count": 39,
     "metadata": {},
     "output_type": "execute_result"
    }
   ],
   "source": [
    "top = dados_bairro.query(\"Bairro in @top_bairros\")\n",
    "top"
   ]
  },
  {
   "cell_type": "code",
   "execution_count": 40,
   "id": "2636b3da",
   "metadata": {
    "ExecuteTime": {
     "end_time": "2022-09-09T15:03:55.041878Z",
     "start_time": "2022-09-09T15:03:54.703478Z"
    }
   },
   "outputs": [
    {
     "data": {
      "image/png": "[encoded data removed]",
      "text/plain": [
       "<Figure size 1000x800 with 1 Axes>"
      ]
     },
     "metadata": {},
     "output_type": "display_data"
    }
   ],
   "source": [
    "plt.figure(figsize=(10, 8))\n",
    "ax = sns.barplot(x=\"Bairro\", y=\"Valor_m2_bairro\", data=top)\n",
    "plt.title('Bairro X Valor por m2', fontsize=18, weight='bold')\n",
    "ax.tick_params(axis='x', rotation=45)"
   ]
  },
  {
   "cell_type": "markdown",
   "id": "b759e168",
   "metadata": {},
   "source": [
    "Verificamos que dos bairros com mais imóveis anunciados, os que possuem um maior valor por m2 é o Jardim Europa (média de 20.000,00/m2) seguido do Jardim Paulista (média de 16.000,00/m2) e Alto de Pinheiros (média de 11.000,00/m2). "
   ]
  },
  {
   "cell_type": "code",
   "execution_count": 41,
   "id": "52edfecd",
   "metadata": {
    "ExecuteTime": {
     "end_time": "2022-09-09T15:03:55.462010Z",
     "start_time": "2022-09-09T15:03:55.053422Z"
    }
   },
   "outputs": [
    {
     "data": {
      "image/png": "[encoded data removed]",
      "text/plain": [
       "<Figure size 1000x800 with 1 Axes>"
      ]
     },
     "metadata": {},
     "output_type": "display_data"
    }
   ],
   "source": [
    "plt.figure(figsize=(10, 8))\n",
    "ax = sns.boxplot(data = dados_vendas.query(\"Bairro in @top_bairros\"), x=\"Bairro\", y=\"Valor_anuncio\")\n",
    "plt.title('Boxplot Bairro X Valor do Imóvel', fontsize=18, weight='bold')\n",
    "ax.tick_params(axis='x', rotation=45)\n",
    "plt.show()"
   ]
  },
  {
   "cell_type": "markdown",
   "id": "afb9378d",
   "metadata": {},
   "source": [
    "Verificamos que dos bairros com mais imóveis anunciados, os que possuem um maior valor total é o Jardim Europa seguido do Jardim Paulista. Podemos ver também que o imóvel mais caro em SP anunciado, no valor de 65.000.000,00, fica localizado no bairro Jardim Europa"
   ]
  },
  {
   "cell_type": "code",
   "execution_count": 42,
   "id": "57047e0b",
   "metadata": {
    "ExecuteTime": {
     "end_time": "2022-09-09T15:03:55.871866Z",
     "start_time": "2022-09-09T15:03:55.472337Z"
    }
   },
   "outputs": [
    {
     "data": {
      "image/png": "[encoded data removed]",
      "text/plain": [
       "<Figure size 1000x800 with 1 Axes>"
      ]
     },
     "metadata": {},
     "output_type": "display_data"
    }
   ],
   "source": [
    "plt.figure(figsize=(10, 8))\n",
    "ax = sns.boxplot(data = dados_vendas.query(\"Bairro in @top_bairros\"), x=\"Bairro\", y=\"Metragem\")\n",
    "plt.title('Boxplot Bairro X Metragem do Imóvel', fontsize=18, weight='bold')\n",
    "ax.tick_params(axis='x', rotation=45)\n",
    "plt.show()"
   ]
  },
  {
   "cell_type": "markdown",
   "id": "2fb8d81b",
   "metadata": {},
   "source": [
    "Quando plotamos o boxplot Bairro X Metragem do Imóvel, verificamos um outlier com 700.000 m2 no bairro Jardim Guedala. Considerando que houve um erro de digitação, iremos plotar somente os imóveis com metragem abaixo de 2000 m2, para podermos visualizar melhor os dados."
   ]
  },
  {
   "cell_type": "code",
   "execution_count": 43,
   "id": "8bcf8644",
   "metadata": {
    "ExecuteTime": {
     "end_time": "2022-09-09T15:03:56.301539Z",
     "start_time": "2022-09-09T15:03:55.879806Z"
    }
   },
   "outputs": [
    {
     "data": {
      "image/png": "[encoded data removed]",
      "text/plain": [
       "<Figure size 1000x800 with 1 Axes>"
      ]
     },
     "metadata": {},
     "output_type": "display_data"
    }
   ],
   "source": [
    "plt.figure(figsize=(10, 8))\n",
    "ax = sns.boxplot(data = dados_vendas.query(\"Bairro in @top_bairros & Metragem < 2000\"), x=\"Bairro\", y=\"Metragem\")\n",
    "plt.title('Boxplot Bairro X Metragem do Imóvel', fontsize=18, weight='bold')\n",
    "ax.tick_params(axis='x', rotation=45)\n",
    "plt.show()"
   ]
  },
  {
   "cell_type": "markdown",
   "id": "74ebc2de",
   "metadata": {},
   "source": [
    "Verificamos que dos bairros com mais imóveis anunciados, o bairro que possui imóveis com maiores metragens é o bairro Cidade Jardim, com mediana de aproximadamente 600m2."
   ]
  },
  {
   "cell_type": "markdown",
   "id": "248382d6",
   "metadata": {
    "ExecuteTime": {
     "end_time": "2022-05-31T18:04:01.425251Z",
     "start_time": "2022-05-31T18:04:01.300276Z"
    }
   },
   "source": [
    "### Dos bairros com maior quantidade de imóveis disponíveis para venda:\n",
    "- Os bairros que possuem um maior valor por m2 é o Jardim Europa (média de 20.000,00/m2) seguido do Jardim Paulista (média de 16.000,00/m2) e Alto de Pinheiros (média de 11.000,00/m2). O bairro que possui menor valor/m2 é o Jardim Guedala com média de 2.000,00 por m2;\n",
    "- Os bairros que possuem um maior valor total é o Jardim Europa seguido do Jardim Paulista. Podemos ver também que o imóvel mais caro em SP anunciado, no valor de 65.000.000,00, fica localizado no bairro Jardim Europa;\n",
    "- O bairro que possui imóveis com maiores metragens é o bairro Cidade Jardim, com área mediana de aproximadamente 600m2."
   ]
  },
  {
   "cell_type": "markdown",
   "id": "19d54e6a",
   "metadata": {},
   "source": [
    "# Removendo outliers"
   ]
  },
  {
   "cell_type": "markdown",
   "id": "92c3cc06",
   "metadata": {},
   "source": [
    "Removeremos outliers do nosso dataset:\n",
    "\n",
    "    - Imóveis com: valor acima de R$30.000.000, valor abaixo de R$100.000 e metragem acima de 2000m2."
   ]
  },
  {
   "cell_type": "code",
   "execution_count": 44,
   "id": "5ef8dbdb",
   "metadata": {
    "ExecuteTime": {
     "end_time": "2022-09-09T15:03:56.340512Z",
     "start_time": "2022-09-09T15:03:56.305812Z"
    }
   },
   "outputs": [
    {
     "name": "stderr",
     "output_type": "stream",
     "text": [
      "/var/folders/wq/v6b_q61j6zqc33gpbvj9jb000000gn/T/ipykernel_35828/2529105906.py:1: SettingWithCopyWarning: \n",
      "A value is trying to be set on a copy of a slice from a DataFrame\n",
      "\n",
      "See the caveats in the documentation: https://pandas.pydata.org/pandas-docs/stable/user_guide/indexing.html#returning-a-view-versus-a-copy\n",
      "  dados_vendas.drop(dados_vendas.query(\"Valor_anuncio > 30000000 | Valor_anuncio < 100000 | Metragem > 2000\").index, inplace = True)\n"
     ]
    }
   ],
   "source": [
    "dados_vendas.drop(dados_vendas.query(\"Valor_anuncio > 30000000 | Valor_anuncio < 100000 | Metragem > 2000\").index, inplace = True)"
   ]
  },
  {
   "cell_type": "markdown",
   "id": "64908dc6",
   "metadata": {},
   "source": [
    "# Matriz de Correlação"
   ]
  },
  {
   "cell_type": "code",
   "execution_count": 45,
   "id": "ff2fd19f",
   "metadata": {
    "ExecuteTime": {
     "end_time": "2022-09-09T15:03:56.845942Z",
     "start_time": "2022-09-09T15:03:56.359219Z"
    }
   },
   "outputs": [
    {
     "data": {
      "image/png": "[encoded data removed]",
      "text/plain": [
       "<Figure size 1800x800 with 2 Axes>"
      ]
     },
     "metadata": {},
     "output_type": "display_data"
    }
   ],
   "source": [
    "plt.figure(figsize=(18, 8))\n",
    "mask = np.triu(np.ones_like(dados_vendas.corr(), dtype=bool))\n",
    "heatmap = sns.heatmap(dados_vendas.corr(), mask=mask, vmin=-1, vmax=1, annot=True, cmap='BrBG')\n",
    "heatmap.set_title('Correlação', fontdict={'fontsize':18}, pad=16);"
   ]
  },
  {
   "cell_type": "markdown",
   "id": "8f5af207",
   "metadata": {},
   "source": [
    " A matriz de correlação nos fornece hipóteses que permite identificar quais são as variáveis que influenciam positiva ou negativamente na identificação de uma classe da variável alvo. \n",
    " \n",
    " Podemos verificar que a variável **Valor_anuncio** tem correlação:\n",
    "\n",
    "Muito **Positiva** com a variável **Valor_m2** (Iremos excluir esta variável, pois a correlação muito alta pode atrapalhar nosso modelo)\n",
    "\n",
    "\n",
    "    \n",
    "**Positiva** com as variáveis **Metragem, Banheiro, Vagas e Quartos** \n",
    "  "
   ]
  },
  {
   "cell_type": "markdown",
   "id": "e2c72a62",
   "metadata": {},
   "source": [
    "# Machine Learning"
   ]
  },
  {
   "cell_type": "markdown",
   "id": "807ec12f",
   "metadata": {},
   "source": [
    "## Definindo as features (dados de entrada) e os labels (dados de saída)"
   ]
  },
  {
   "cell_type": "code",
   "execution_count": 46,
   "id": "411e4395",
   "metadata": {
    "ExecuteTime": {
     "end_time": "2022-09-09T15:03:56.867155Z",
     "start_time": "2022-09-09T15:03:56.854386Z"
    }
   },
   "outputs": [],
   "source": [
    "X = dados_vendas[['Metragem', 'Quartos', 'Banheiros', 'Vagas']]\n",
    "Y = dados_vendas[\"Valor_anuncio\"]"
   ]
  },
  {
   "cell_type": "markdown",
   "id": "c68cbf64",
   "metadata": {},
   "source": [
    "## Criação de bases de treino e teste"
   ]
  },
  {
   "cell_type": "code",
   "execution_count": 47,
   "id": "819a1656",
   "metadata": {
    "ExecuteTime": {
     "end_time": "2022-09-09T15:03:56.910898Z",
     "start_time": "2022-09-09T15:03:56.876515Z"
    }
   },
   "outputs": [],
   "source": [
    "X_train, X_test, Y_train, Y_test = train_test_split(X, Y, test_size = 0.25, random_state = seed)"
   ]
  },
  {
   "cell_type": "markdown",
   "id": "0ad57610",
   "metadata": {},
   "source": [
    "## Regressão Linear"
   ]
  },
  {
   "cell_type": "code",
   "execution_count": 48,
   "id": "5c8264be",
   "metadata": {
    "ExecuteTime": {
     "end_time": "2022-09-09T15:03:56.946550Z",
     "start_time": "2022-09-09T15:03:56.915661Z"
    }
   },
   "outputs": [],
   "source": [
    "#criando o modelo\n",
    "lr = LinearRegression()\n",
    "\n",
    "#treinando o modelo\n",
    "lr.fit(X_train, Y_train)\n",
    "\n",
    "#criando previsões de teste\n",
    "Y_predict_lr = lr.predict(X_test)"
   ]
  },
  {
   "cell_type": "markdown",
   "id": "769ef97e",
   "metadata": {},
   "source": [
    "## Random Forest Regressor"
   ]
  },
  {
   "cell_type": "code",
   "execution_count": 49,
   "id": "ce0664a4",
   "metadata": {
    "ExecuteTime": {
     "end_time": "2022-09-09T15:03:58.265878Z",
     "start_time": "2022-09-09T15:03:56.950559Z"
    }
   },
   "outputs": [],
   "source": [
    "#criando o modelo\n",
    "rf = RandomForestRegressor(random_state = seed)\n",
    "\n",
    "#treinando o modelo\n",
    "rf.fit(X_train, Y_train)\n",
    "\n",
    "#criando previsões de teste\n",
    "Y_predict_rf = rf.predict(X_test)"
   ]
  },
  {
   "cell_type": "markdown",
   "id": "8718adf8",
   "metadata": {
    "ExecuteTime": {
     "end_time": "2022-09-03T19:52:22.297422Z",
     "start_time": "2022-09-03T19:52:22.291542Z"
    }
   },
   "source": [
    "## Random Forest Regressor com validação cruzada e Grid Search"
   ]
  },
  {
   "cell_type": "markdown",
   "id": "f70fe29a",
   "metadata": {},
   "source": [
    "Essa técnica consiste em definir um conjunto de valores que determinado hiperparâmetro pode ter e treinar um modelo para cada combinação desses hiperparâmetros, e então selecionar a combinação com o melhor resultado."
   ]
  },
  {
   "cell_type": "code",
   "execution_count": 50,
   "id": "0ec0f6ec",
   "metadata": {
    "ExecuteTime": {
     "end_time": "2022-09-09T15:05:08.167399Z",
     "start_time": "2022-09-09T15:03:58.271264Z"
    }
   },
   "outputs": [
    {
     "name": "stdout",
     "output_type": "stream",
     "text": [
      "\n",
      " Best hyperparameters:\n",
      "{'max_depth': 10, 'max_features': 2, 'min_samples_split': 2, 'n_estimators': 50}\n"
     ]
    }
   ],
   "source": [
    "# definindo os valores possíveis dos parâmetros a serem testados\n",
    "params = {'n_estimators': [50, 100],\n",
    "          'max_features': [2, 3, 4],\n",
    "          'max_depth': [2, 5, 10],\n",
    "          'min_samples_split': [2, 4],}\n",
    "\n",
    "# criando o objeto do modelo com RandomForestRegressor\n",
    "rf_model_cv_gs = RandomForestRegressor(random_state = seed)\n",
    "\n",
    "# criando o objeto do grid search com GridSearchCV\n",
    "grid_search = GridSearchCV(rf_model_cv_gs, param_grid=params, return_train_score=True) # valor padrão para quebras é 3\n",
    "\n",
    "# treinando o modelo com o grid search\n",
    "grid_search.fit(X_train, Y_train)\n",
    "\n",
    "# imprimindo a melhor combinação de hiperparâmetros\n",
    "print('\\n Best hyperparameters:')\n",
    "print(grid_search.best_params_)\n",
    "\n",
    "# configurando o modelo com a melhor combinação de hiperparâmetros\n",
    "rf_model_cv_gs.set_params(n_estimators = grid_search.best_params_['n_estimators'],\n",
    "                           max_features = grid_search.best_params_['max_features'],\n",
    "                           max_depth = grid_search.best_params_['max_depth'],\n",
    "                           min_samples_split = grid_search.best_params_['min_samples_split'])\n",
    "\n",
    "# treinando um modelo com a melhor combinação de hiperparâmetros\n",
    "rf_model_cv_gs.fit(X_train, Y_train)\n",
    "\n",
    "# prevendo com o modelo \n",
    "y_pred_rf_gs = rf_model_cv_gs.predict(X_test)\n"
   ]
  },
  {
   "cell_type": "markdown",
   "id": "0cc3c141",
   "metadata": {},
   "source": [
    "Podemos ver que usando o **Grid Search** os melhores parâmetros selecionados foram max_depth de 10, max_features de 2 e um número de estimadores de 50."
   ]
  },
  {
   "cell_type": "markdown",
   "id": "f0d75223",
   "metadata": {},
   "source": [
    "### LightGBM"
   ]
  },
  {
   "cell_type": "markdown",
   "id": "359911a3",
   "metadata": {},
   "source": [
    "A principal diferença entre o Light GBM e a maioria dos outros métodos é que ele cria suas árvores verticalmente, enquanto outros algoritmos as criam horizontalmente. Em outras palavras, o Light GBM cresce suas árvores por folha, enquanto os demais crescem suas árvores por níveis. Assim, ele decide a quebra a ser feita na árvore pela folha que terá o maior ganho de informação."
   ]
  },
  {
   "cell_type": "code",
   "execution_count": 51,
   "id": "b427d364",
   "metadata": {
    "ExecuteTime": {
     "end_time": "2022-09-09T15:05:08.602648Z",
     "start_time": "2022-09-09T15:05:08.178758Z"
    }
   },
   "outputs": [],
   "source": [
    "# criando o objeto do modelo com LGBMRegressor\n",
    "lgb_model_1 = lgb.LGBMRegressor(random_state = seed)\n",
    "\n",
    "# treinando o modelo com os dados de treino\n",
    "lgb_model_1.fit(X_train, Y_train)\n",
    "\n",
    "# prevendo com o modelo nos dados de validação\n",
    "y_pred_lgbm = lgb_model_1.predict(X_test)"
   ]
  },
  {
   "cell_type": "markdown",
   "id": "8be6d499",
   "metadata": {},
   "source": [
    "## Avaliação do Modelo"
   ]
  },
  {
   "cell_type": "markdown",
   "id": "b1c2c568",
   "metadata": {},
   "source": [
    "- Vamos utilizar o R² -> diz o % que o nosso modelo consegue explicar o que acontece"
   ]
  },
  {
   "cell_type": "code",
   "execution_count": 52,
   "id": "1e5c0793",
   "metadata": {
    "ExecuteTime": {
     "end_time": "2022-09-09T15:05:08.639640Z",
     "start_time": "2022-09-09T15:05:08.611612Z"
    }
   },
   "outputs": [
    {
     "name": "stdout",
     "output_type": "stream",
     "text": [
      "R² Regressão Linear: 0.511\n",
      "R² Random Forest Regression: 0.606\n",
      "R² Random Forest Regression Grid Search: 0.621\n",
      "R² LGBM: 0.590\n"
     ]
    }
   ],
   "source": [
    "print(\"R² Regressão Linear: {:.3f}\".format(r2_score(Y_test, Y_predict_lr)))\n",
    "print(\"R² Random Forest Regression: {:.3f}\".format(r2_score(Y_test, Y_predict_rf)))\n",
    "print(\"R² Random Forest Regression Grid Search: {:.3f}\".format(r2_score(Y_test, y_pred_rf_gs)))\n",
    "print(\"R² LGBM: {:.3f}\".format(r2_score(Y_test, y_pred_lgbm)))"
   ]
  },
  {
   "cell_type": "markdown",
   "id": "20156b3f",
   "metadata": {
    "ExecuteTime": {
     "end_time": "2022-09-09T15:06:03.531994Z",
     "start_time": "2022-09-09T15:06:03.520179Z"
    }
   },
   "source": [
    "Pelo resultado do R2, parece que o modelo Random Forest Regression utilizando Grid Search se adequou melhor (quanto mais próximo de 1 melhor). Porém resultado ainda baixo. Uma possibilidade é tentar conseguir mais dados para nossso modelo melhorar sua acurácia."
   ]
  },
  {
   "cell_type": "code",
   "execution_count": null,
   "id": "78654eaa",
   "metadata": {},
   "outputs": [],
   "source": []
  }
 ],
 "metadata": {
  "kernelspec": {
   "display_name": "Python 3 (ipykernel)",
   "language": "python",
   "name": "python3"
  },
  "language_info": {
   "codemirror_mode": {
    "name": "ipython",
    "version": 3
   },
   "file_extension": ".py",
   "mimetype": "text/x-python",
   "name": "python",
   "nbconvert_exporter": "python",
   "pygments_lexer": "ipython3",
   "version": "3.9.7"
  }
 },
 "nbformat": 4,
 "nbformat_minor": 5
}
